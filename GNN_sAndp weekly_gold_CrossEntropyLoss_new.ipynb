{
 "cells": [
  {
   "cell_type": "code",
   "execution_count": 1,
   "metadata": {},
   "outputs": [],
   "source": [
    "import os\n",
    "import torch\n",
    "import torch.nn.functional as F\n",
    "from tqdm import tqdm\n",
    "from torch_geometric.loader import NeighborLoader\n",
    "from torch.optim.lr_scheduler import ReduceLROnPlateau\n",
    "from torch_geometric.nn import MessagePassing, SAGEConv\n",
    "from ogb.nodeproppred import Evaluator, PygNodePropPredDataset"
   ]
  },
  {
   "cell_type": "code",
   "execution_count": 2,
   "metadata": {},
   "outputs": [],
   "source": [
    "import yfinance as yf\n",
    "import pandas as pd\n",
    "import numpy as np\n",
    "from sklearn.preprocessing import StandardScaler"
   ]
  },
  {
   "cell_type": "code",
   "execution_count": 28,
   "metadata": {},
   "outputs": [],
   "source": [
    "withGold = True\n",
    "withOil = True\n",
    "lossFunction = 'CrossEntrophyLoss'\n",
    "# lossFunction = 'FocalLoss'"
   ]
  },
  {
   "cell_type": "code",
   "execution_count": 18,
   "metadata": {},
   "outputs": [
    {
     "name": "stdout",
     "output_type": "stream",
     "text": [
      "[*********************100%%**********************]  1 of 1 completed\n",
      "[*********************100%%**********************]  1 of 1 completed\n",
      "[*********************100%%**********************]  1 of 1 completed\n"
     ]
    }
   ],
   "source": [
    "start_date = \"2011-01-30\"\n",
    "end_date = \"2019-08-30\"\n",
    "yfdata = yf.download('^GSPC', start=start_date, end=end_date)\n",
    "golddata = yf.download('GC=F', start=start_date, end=end_date)\n",
    "oildata = yf.download('CL=F', start=start_date, end=end_date)"
   ]
  },
  {
   "cell_type": "code",
   "execution_count": 19,
   "metadata": {},
   "outputs": [],
   "source": [
    "yfdata_dates = yfdata.index\n",
    "golddata_dates = golddata.index\n",
    "\n",
    "# 找出 yfdata 有而 golddata 没有的日期\n",
    "missing_dates = yfdata_dates[~yfdata_dates.isin(golddata_dates)]\n",
    "missing_data = pd.DataFrame(index=missing_dates,columns=golddata.columns)\n",
    "for date in missing_dates:\n",
    "    previous_date = golddata_dates[golddata_dates < date]\n",
    "    if not previous_date.empty:\n",
    "        last_known_data = golddata.loc[previous_date.max()]\n",
    "        missing_data.loc[date] = last_known_data\n",
    "\n",
    "golddata = pd.concat([golddata, missing_data])\n",
    "golddata = golddata.add_prefix('gold ')\n",
    "golddata = golddata.sort_index()\n"
   ]
  },
  {
   "cell_type": "code",
   "execution_count": 20,
   "metadata": {},
   "outputs": [
    {
     "data": {
      "text/plain": [
       "False"
      ]
     },
     "execution_count": 20,
     "metadata": {},
     "output_type": "execute_result"
    }
   ],
   "source": [
    "golddata.isna().any().any()"
   ]
  },
  {
   "cell_type": "code",
   "execution_count": 21,
   "metadata": {},
   "outputs": [
    {
     "data": {
      "text/plain": [
       "False"
      ]
     },
     "execution_count": 21,
     "metadata": {},
     "output_type": "execute_result"
    }
   ],
   "source": [
    "yfdata_dates = yfdata.index\n",
    "oildata_dates = oildata.index\n",
    "\n",
    "# 找出 yfdata 有而 oildata 没有的日期\n",
    "missing_dates = yfdata_dates[~yfdata_dates.isin(oildata_dates)]\n",
    "missing_data = pd.DataFrame(index=missing_dates,columns=oildata.columns)\n",
    "for date in missing_dates:\n",
    "    previous_date = oildata_dates[oildata_dates < date]\n",
    "    if not previous_date.empty:\n",
    "        last_known_data = oildata.loc[previous_date.max()]\n",
    "        missing_data.loc[date] = last_known_data\n",
    "\n",
    "oildata = pd.concat([oildata, missing_data])\n",
    "oildata = oildata.add_prefix('oil ')\n",
    "oildata = oildata.sort_index()\n",
    "\n",
    "oildata.isna().any().any()"
   ]
  },
  {
   "cell_type": "code",
   "execution_count": 22,
   "metadata": {},
   "outputs": [
    {
     "name": "stderr",
     "output_type": "stream",
     "text": [
      "C:\\Users\\tony\\AppData\\Local\\Temp\\ipykernel_19716\\2328916963.py:12: FutureWarning: Series.__getitem__ treating keys as positions is deprecated. In a future version, integer keys will always be treated as labels (consistent with DataFrame behavior). To access a value by position, use `ser.iloc[pos]`\n",
      "  if np.isnan(data[price_col][i]):\n",
      "C:\\Users\\tony\\AppData\\Local\\Temp\\ipykernel_19716\\2328916963.py:15: FutureWarning: Series.__getitem__ treating keys as positions is deprecated. In a future version, integer keys will always be treated as labels (consistent with DataFrame behavior). To access a value by position, use `ser.iloc[pos]`\n",
      "  local_df.append(data[price_col][i])\n"
     ]
    }
   ],
   "source": [
    "days = 8 #多取一天後續方便計算label\n",
    "date_cols = []\n",
    "price_cols = yfdata.columns.tolist()\n",
    "price_cols.append('gold Adj Close')\n",
    "price_cols.append('oil Adj Close')\n",
    "all_data = {}\n",
    "sliding_window = 1\n",
    "\n",
    "def group_by_week(data,price_col):\n",
    "    local_df = []\n",
    "    for i in range(len(data)):\n",
    "        if np.isnan(data[price_col][i]): \n",
    "            print(str(data.index[i]))\n",
    "            break\n",
    "        local_df.append(data[price_col][i])\n",
    "        \n",
    "        if len(local_df) == days:\n",
    "            col_name = str(data.index[i - days + 1]) + ' ~ ' + str(data.index[i])\n",
    "            if price_col == price_cols[0]:\n",
    "                date_cols.append(col_name)\n",
    "            all_data[(price_col, col_name)] = local_df.copy()\n",
    "            for j in range(sliding_window):\n",
    "                local_df.pop(0) \n",
    "\n",
    "for price_col in price_cols:\n",
    "    if price_col.startswith('gold'):\n",
    "        group_by_week(golddata, price_col)\n",
    "    elif price_col.startswith('oil'):\n",
    "        group_by_week(oildata, price_col)\n",
    "    else: \n",
    "        group_by_week(yfdata, price_col)\n",
    "\n",
    "\n",
    "multi_columns = pd.MultiIndex.from_product([price_cols,date_cols],names=['price','date'])\n",
    "group_by_days_yfdata = pd.DataFrame(data=all_data,columns=multi_columns)\n",
    "test = group_by_days_yfdata['gold Adj Close']"
   ]
  },
  {
   "cell_type": "code",
   "execution_count": 23,
   "metadata": {},
   "outputs": [
    {
     "name": "stdout",
     "output_type": "stream",
     "text": [
      "If there is NAN in data?  False\n",
      "Index(['2011-01-31 00:00:00 ~ 2011-02-09 00:00:00',\n",
      "       '2011-02-01 00:00:00 ~ 2011-02-10 00:00:00',\n",
      "       '2011-02-02 00:00:00 ~ 2011-02-11 00:00:00',\n",
      "       '2011-02-03 00:00:00 ~ 2011-02-14 00:00:00',\n",
      "       '2011-02-04 00:00:00 ~ 2011-02-15 00:00:00',\n",
      "       '2011-02-07 00:00:00 ~ 2011-02-16 00:00:00',\n",
      "       '2011-02-08 00:00:00 ~ 2011-02-17 00:00:00',\n",
      "       '2011-02-09 00:00:00 ~ 2011-02-18 00:00:00',\n",
      "       '2011-02-10 00:00:00 ~ 2011-02-22 00:00:00',\n",
      "       '2011-02-11 00:00:00 ~ 2011-02-23 00:00:00',\n",
      "       ...\n",
      "       '2019-08-07 00:00:00 ~ 2019-08-16 00:00:00',\n",
      "       '2019-08-08 00:00:00 ~ 2019-08-19 00:00:00',\n",
      "       '2019-08-09 00:00:00 ~ 2019-08-20 00:00:00',\n",
      "       '2019-08-12 00:00:00 ~ 2019-08-21 00:00:00',\n",
      "       '2019-08-13 00:00:00 ~ 2019-08-22 00:00:00',\n",
      "       '2019-08-14 00:00:00 ~ 2019-08-23 00:00:00',\n",
      "       '2019-08-15 00:00:00 ~ 2019-08-26 00:00:00',\n",
      "       '2019-08-16 00:00:00 ~ 2019-08-27 00:00:00',\n",
      "       '2019-08-19 00:00:00 ~ 2019-08-28 00:00:00',\n",
      "       '2019-08-20 00:00:00 ~ 2019-08-29 00:00:00'],\n",
      "      dtype='object', name='date', length=2153)\n"
     ]
    },
    {
     "data": {
      "text/plain": [
       "array([[ 1.        , -0.36727761, -0.27048959, ...,  0.28624785,\n",
       "        -0.30040505,  0.09645067],\n",
       "       [-0.36727761,  1.        ,  0.1310953 , ..., -0.59253527,\n",
       "        -0.17798629, -0.23256388],\n",
       "       [-0.27048959,  0.1310953 ,  1.        , ...,  0.50907856,\n",
       "        -0.30571374, -0.13618199],\n",
       "       ...,\n",
       "       [ 0.28624785, -0.59253527,  0.50907856, ...,  1.        ,\n",
       "        -0.49407569,  0.00516179],\n",
       "       [-0.30040505, -0.17798629, -0.30571374, ..., -0.49407569,\n",
       "         1.        , -0.29780148],\n",
       "       [ 0.09645067, -0.23256388, -0.13618199, ...,  0.00516179,\n",
       "        -0.29780148,  1.        ]])"
      ]
     },
     "execution_count": 23,
     "metadata": {},
     "output_type": "execute_result"
    }
   ],
   "source": [
    "data = group_by_days_yfdata\n",
    "# data = data.fillna(0)\n",
    "print(\"If there is NAN in data? \",data.isnull().values.any())\n",
    "returns = data['Adj Close'].pct_change().fillna(0) \n",
    "print(returns.keys())\n",
    "scaled_returns = StandardScaler().fit_transform(returns) #Z-score標準化:mean = 0,std = 1，後續用來計算相關性\n",
    "# 計算各週之間的相關性\n",
    "correlation_matrix = np.corrcoef(scaled_returns, rowvar=False)\n",
    "correlation_matrix"
   ]
  },
  {
   "cell_type": "code",
   "execution_count": 24,
   "metadata": {},
   "outputs": [],
   "source": [
    "from torch_geometric.data import Data"
   ]
  },
  {
   "cell_type": "code",
   "execution_count": 26,
   "metadata": {},
   "outputs": [],
   "source": [
    "def min_max_scaling(data, feature_range=(0, 1)):\n",
    "    \"\"\"\n",
    "    Min-Max Scaling for data.\n",
    "\n",
    "    Parameters:\n",
    "    - data: A NumPy array containing the data to be scaled.\n",
    "    - feature_range: A tuple specifying the desired feature range (default is [0, 1]).\n",
    "\n",
    "    Returns:\n",
    "    - scaled_data: The scaled data within the specified feature range.\n",
    "    \"\"\"\n",
    "    min_val, max_val = feature_range\n",
    "    min_data = np.min(data, axis=0)\n",
    "    max_data = np.max(data, axis=0)\n",
    "    scaled_data = (data - min_data) / (max_data - min_data) * (max_val - min_val) + min_val\n",
    "    return scaled_data"
   ]
  },
  {
   "cell_type": "code",
   "execution_count": 58,
   "metadata": {},
   "outputs": [
    {
     "name": "stdout",
     "output_type": "stream",
     "text": [
      "Any NAN in feature_matrix=  False\n",
      "feature_matrix_shape =  torch.Size([2153, 49])\n",
      "edge size=  torch.Size([2, 34396])\n",
      "y =  torch.Size([2153, 1])\n"
     ]
    }
   ],
   "source": [
    "# 將相關性矩陣轉換為鄰接矩陣\n",
    "adjacency_matrix = torch.tensor(correlation_matrix)\n",
    "\n",
    "src_nodes, dst_nodes = np.where((adjacency_matrix > 0.7))\n",
    "directed_index = np.where((src_nodes < dst_nodes) & ((dst_nodes - src_nodes) <= 495))\n",
    "src_nodes = src_nodes[directed_index]\n",
    "dst_nodes = dst_nodes[directed_index]\n",
    "\n",
    "edge_index = torch.tensor([\n",
    "    src_nodes,  \n",
    "    dst_nodes  \n",
    "],dtype=torch.long) #邊\n",
    "\n",
    "features = ['Adj Close', 'Open', 'High', 'Low', 'Volume']\n",
    "if (withGold):\n",
    "    features.append('gold Adj Close')\n",
    "if (withOil):\n",
    "    features.append('oil Adj Close')\n",
    "num_nodes = len(returns.keys())\n",
    "num_features = len(features)\n",
    "feature_matrix = np.zeros((num_nodes, num_features,len(data)-1)) \n",
    "\n",
    "# 將數據填充到特徵矩陣中\n",
    "for i, symbol in enumerate(returns.keys()):\n",
    "    for j,feature in enumerate(features):\n",
    "        company_data = data[(feature,symbol)]\n",
    "        feature_matrix[i, j] = torch.tensor(min_max_scaling(company_data.values[:-1]),dtype=torch.float32) #取得第一天到第七天\n",
    "        \n",
    "print(\"Any NAN in feature_matrix= \",np.isnan(feature_matrix).any())\n",
    "\n",
    "feature_matrix = torch.tensor(feature_matrix,dtype=torch.float32)\n",
    "feature_matrix = feature_matrix.reshape(feature_matrix.shape[0], -1)\n",
    "\n",
    "y_list = []\n",
    "for i, symbol in enumerate(returns.keys()):\n",
    "    lastDay = data.iloc[-2][('Adj Close',symbol)] #input中最後一天的資料\n",
    "    predictDay = data.iloc[-1][('Adj Close',symbol)] #隔天的資料\n",
    "    if (lastDay/predictDay > 1.005):\n",
    "        y_list.append([2]) #下跌\n",
    "    elif ( 0.995 < lastDay/predictDay < 1.005): #應該在某個範圍內\n",
    "        y_list.append([1]) #持平\n",
    "    else:\n",
    "        y_list.append([0]) #上漲\n",
    "\n",
    "y = torch.tensor(y_list, dtype=torch.long)\n",
    "\n",
    "print(\"feature_matrix_shape = \",feature_matrix.shape)\n",
    "print(\"edge size= \",edge_index.shape)\n",
    "print('y = ',y.shape)\n",
    "gnnInputData = Data(x=feature_matrix,edge_index=edge_index,y=y)\n",
    "\n"
   ]
  },
  {
   "cell_type": "code",
   "execution_count": 59,
   "metadata": {},
   "outputs": [
    {
     "name": "stdout",
     "output_type": "stream",
     "text": [
      "tensor([[   0,    0,    0,  ..., 2137, 2138, 2138],\n",
      "        [  40,   55,   70,  ..., 2151, 2145, 2152]])\n"
     ]
    }
   ],
   "source": [
    "print(edge_index)"
   ]
  },
  {
   "cell_type": "code",
   "execution_count": 60,
   "metadata": {},
   "outputs": [
    {
     "name": "stdout",
     "output_type": "stream",
     "text": [
      "True\n"
     ]
    }
   ],
   "source": [
    "#input為有向圖，過去->未來\n",
    "print(gnnInputData.is_directed())"
   ]
  },
  {
   "cell_type": "code",
   "execution_count": 61,
   "metadata": {},
   "outputs": [
    {
     "name": "stdout",
     "output_type": "stream",
     "text": [
      "找到日期 '2013-01-18 00:00:00 ~ 2013-01-30 00:00:00'，index= 495\n",
      "找到日期 '2017-05-12 00:00:00 ~ 2017-05-23 00:00:00'，index= 1581\n",
      "找到日期 '2018-03-16 00:00:00 ~ 2018-03-27 00:00:00'，index= 1793\n",
      "找到日期 '2019-08-20 00:00:00 ~ 2019-08-29 00:00:00'，index= 2152\n"
     ]
    }
   ],
   "source": [
    "train_eval_test_index = []\n",
    "for target_value in ['~ 2013-01-30','~ 2017-05-23','~ 2018-03-27','~ 2019-08-29']:\n",
    "    for index, item in enumerate(returns.keys()):\n",
    "        if target_value in item:\n",
    "            train_eval_test_index.append(index)\n",
    "            print(f\"找到日期 '{item}'，index= {index}\")\n",
    "            break"
   ]
  },
  {
   "cell_type": "code",
   "execution_count": 62,
   "metadata": {},
   "outputs": [],
   "source": [
    "train_idx = torch.tensor(np.arange(train_eval_test_index[0],train_eval_test_index[1]+1),dtype=torch.long)\n",
    "#evaluate input節點\n",
    "eval_idx = torch.tensor(np.arange(train_eval_test_index[1]+1,train_eval_test_index[2]+1),dtype=torch.long)\n",
    "#test input\n",
    "test_idx = torch.tensor(np.arange(train_eval_test_index[2]+1,len(feature_matrix)),dtype=torch.long)"
   ]
  },
  {
   "cell_type": "code",
   "execution_count": 63,
   "metadata": {},
   "outputs": [
    {
     "name": "stdout",
     "output_type": "stream",
     "text": [
      "上漲(0)的数量： 534\n",
      "持有(1)的数量： 1202\n",
      "下跌(2)的数量： 417\n",
      "weight:  [4.031835205917007, 1.7911813643777774, 5.1630695442406935]\n"
     ]
    }
   ],
   "source": [
    "count_0 = np.count_nonzero(y == 0)\n",
    "count_1 = np.count_nonzero(y == 1)\n",
    "count_2 = np.count_nonzero(y == 2)\n",
    "\n",
    "print(\"上漲(0)的数量：\", count_0)\n",
    "print(\"持有(1)的数量：\", count_1)\n",
    "print(\"下跌(2)的数量：\", count_2)\n",
    "\n",
    "weight = [len(y) / (count_0 + 1e-8), len(y) / (count_1 + 1e-8), len(y) / (count_2 + 1e-8)]\n",
    "print(\"weight: \",weight)"
   ]
  },
  {
   "cell_type": "code",
   "execution_count": 71,
   "metadata": {},
   "outputs": [
    {
     "name": "stdout",
     "output_type": "stream",
     "text": [
      "[tensor(18.), tensor(16.), tensor(13.), tensor(11.), tensor(14.), tensor(16.), tensor(18.), tensor(18.), tensor(21.), tensor(15.), tensor(20.), tensor(25.), tensor(24.), tensor(19.), tensor(17.), tensor(15.), tensor(14.), tensor(16.), tensor(17.), tensor(12.), tensor(15.), tensor(18.), tensor(19.), tensor(18.), tensor(12.), tensor(17.), tensor(14.), tensor(15.), tensor(20.), tensor(22.), tensor(15.), tensor(15.), tensor(15.), tensor(20.), tensor(13.), tensor(21.), tensor(16.), tensor(18.), tensor(19.), tensor(17.), tensor(18.), tensor(21.), tensor(21.), tensor(27.), tensor(26.), tensor(23.), tensor(23.), tensor(19.), tensor(19.), tensor(23.), tensor(13.), tensor(22.), tensor(22.), tensor(24.), tensor(24.), tensor(19.), tensor(17.), tensor(17.), tensor(20.), tensor(21.), tensor(23.), tensor(20.), tensor(15.), tensor(11.), tensor(13.), tensor(11.), tensor(17.), tensor(19.), tensor(19.), tensor(21.), tensor(10.), tensor(17.), tensor(12.), tensor(16.), tensor(12.), tensor(12.), tensor(14.), tensor(13.), tensor(16.), tensor(27.), tensor(18.), tensor(17.), tensor(14.), tensor(14.), tensor(16.), tensor(24.), tensor(23.), tensor(14.), tensor(14.), tensor(11.), tensor(17.), tensor(20.), tensor(19.), tensor(16.), tensor(19.), tensor(17.), tensor(16.), tensor(18.), tensor(21.), tensor(20.), tensor(15.), tensor(20.), tensor(18.), tensor(16.), tensor(18.), tensor(17.), tensor(16.), tensor(18.), tensor(13.), tensor(17.), tensor(18.), tensor(16.), tensor(11.), tensor(16.), tensor(19.), tensor(18.), tensor(26.), tensor(26.), tensor(23.), tensor(21.), tensor(17.), tensor(19.), tensor(18.), tensor(20.), tensor(14.), tensor(17.), tensor(13.), tensor(13.), tensor(21.), tensor(21.), tensor(24.), tensor(25.), tensor(27.), tensor(26.), tensor(17.), tensor(15.), tensor(15.), tensor(23.), tensor(22.), tensor(10.), tensor(16.), tensor(15.), tensor(14.), tensor(10.), tensor(20.), tensor(21.), tensor(24.), tensor(17.), tensor(15.), tensor(17.), tensor(15.), tensor(18.), tensor(21.), tensor(15.), tensor(8.), tensor(11.), tensor(19.), tensor(21.), tensor(19.), tensor(14.), tensor(7.), tensor(10.), tensor(16.), tensor(22.), tensor(15.), tensor(20.), tensor(19.), tensor(15.), tensor(13.), tensor(15.), tensor(15.), tensor(17.), tensor(18.), tensor(19.), tensor(16.), tensor(22.), tensor(17.), tensor(15.), tensor(26.), tensor(20.), tensor(21.), tensor(28.), tensor(23.), tensor(19.), tensor(21.), tensor(21.), tensor(23.), tensor(16.), tensor(16.), tensor(16.), tensor(18.), tensor(16.), tensor(13.), tensor(8.), tensor(14.), tensor(13.), tensor(15.), tensor(18.), tensor(22.), tensor(20.), tensor(22.), tensor(23.), tensor(18.), tensor(21.), tensor(16.), tensor(22.), tensor(20.), tensor(18.), tensor(18.), tensor(20.), tensor(23.), tensor(20.), tensor(18.), tensor(21.), tensor(19.), tensor(15.), tensor(26.), tensor(24.), tensor(27.), tensor(23.), tensor(26.), tensor(24.), tensor(24.), tensor(16.), tensor(17.), tensor(13.), tensor(20.), tensor(20.), tensor(22.), tensor(19.), tensor(24.), tensor(9.), tensor(9.), tensor(15.), tensor(18.), tensor(17.), tensor(14.), tensor(18.), tensor(21.), tensor(18.), tensor(20.), tensor(17.), tensor(17.), tensor(17.), tensor(21.), tensor(22.), tensor(24.), tensor(19.), tensor(22.), tensor(20.), tensor(15.), tensor(14.), tensor(18.), tensor(14.), tensor(16.), tensor(16.), tensor(18.), tensor(12.), tensor(18.), tensor(17.), tensor(18.), tensor(14.), tensor(12.), tensor(9.), tensor(16.), tensor(19.), tensor(23.), tensor(20.), tensor(23.), tensor(21.), tensor(23.), tensor(21.), tensor(16.), tensor(23.), tensor(19.), tensor(19.), tensor(21.), tensor(15.), tensor(25.), tensor(25.), tensor(24.), tensor(28.), tensor(19.), tensor(20.), tensor(17.), tensor(21.), tensor(16.), tensor(17.), tensor(14.), tensor(18.), tensor(19.), tensor(14.), tensor(22.), tensor(19.), tensor(15.), tensor(15.), tensor(16.), tensor(22.), tensor(18.), tensor(18.), tensor(18.), tensor(13.), tensor(10.), tensor(11.), tensor(11.), tensor(10.), tensor(15.), tensor(12.), tensor(18.), tensor(11.), tensor(13.), tensor(24.), tensor(21.), tensor(21.), tensor(15.), tensor(17.), tensor(19.), tensor(18.), tensor(27.), tensor(29.), tensor(20.), tensor(16.), tensor(22.), tensor(18.), tensor(19.), tensor(18.), tensor(21.), tensor(21.), tensor(17.), tensor(19.), tensor(16.), tensor(18.), tensor(23.), tensor(29.), tensor(21.), tensor(17.), tensor(13.), tensor(15.), tensor(21.), tensor(15.), tensor(15.), tensor(21.), tensor(20.), tensor(27.), tensor(25.), tensor(24.), tensor(21.), tensor(19.), tensor(18.), tensor(17.), tensor(19.), tensor(19.), tensor(21.), tensor(27.), tensor(23.), tensor(21.), tensor(21.), tensor(20.), tensor(22.), tensor(13.), tensor(17.), tensor(22.), tensor(17.), tensor(21.), tensor(19.), tensor(19.), tensor(18.), tensor(18.), tensor(19.), tensor(16.), tensor(20.), tensor(24.), tensor(18.), tensor(25.), tensor(24.), tensor(22.), tensor(23.), tensor(22.), tensor(20.), tensor(17.), tensor(14.), tensor(12.), tensor(17.), tensor(17.), tensor(12.), tensor(19.), tensor(20.), tensor(20.), tensor(24.), tensor(25.), tensor(19.), tensor(18.), tensor(19.), tensor(19.), tensor(21.), tensor(15.), tensor(19.), tensor(24.), tensor(18.), tensor(20.), tensor(22.), tensor(21.), tensor(21.), tensor(14.), tensor(18.), tensor(17.), tensor(18.), tensor(21.), tensor(16.), tensor(17.), tensor(16.), tensor(17.), tensor(18.), tensor(20.), tensor(22.), tensor(13.), tensor(21.), tensor(21.), tensor(23.), tensor(17.), tensor(13.), tensor(18.), tensor(18.), tensor(16.), tensor(12.), tensor(16.), tensor(18.), tensor(24.), tensor(21.), tensor(15.), tensor(14.), tensor(16.), tensor(12.), tensor(10.), tensor(12.), tensor(10.), tensor(12.), tensor(10.), tensor(11.), tensor(14.), tensor(14.), tensor(20.), tensor(22.), tensor(16.), tensor(23.), tensor(17.), tensor(13.), tensor(16.), tensor(15.), tensor(19.), tensor(24.), tensor(24.), tensor(23.), tensor(21.), tensor(15.), tensor(11.), tensor(12.), tensor(8.), tensor(16.), tensor(12.), tensor(17.), tensor(17.), tensor(21.), tensor(25.), tensor(31.), tensor(21.), tensor(20.), tensor(25.), tensor(24.), tensor(15.), tensor(18.), tensor(25.), tensor(19.), tensor(18.), tensor(13.), tensor(15.), tensor(13.), tensor(14.), tensor(13.), tensor(23.), tensor(20.), tensor(15.), tensor(24.), tensor(21.), tensor(28.), tensor(24.), tensor(22.), tensor(15.), tensor(16.), tensor(11.), tensor(12.), tensor(15.), tensor(9.), tensor(17.), tensor(9.), tensor(19.), tensor(17.), tensor(14.), tensor(17.), tensor(16.), tensor(22.), tensor(20.), tensor(15.), tensor(22.), tensor(20.), tensor(19.), tensor(16.), tensor(17.), tensor(21.), tensor(26.), tensor(26.), tensor(25.), tensor(21.), tensor(21.), tensor(19.), tensor(22.), tensor(18.), tensor(21.), tensor(17.), tensor(18.), tensor(20.), tensor(21.), tensor(19.), tensor(22.), tensor(24.), tensor(20.), tensor(17.), tensor(19.), tensor(18.), tensor(17.), tensor(22.), tensor(18.), tensor(14.), tensor(17.), tensor(14.), tensor(20.), tensor(14.), tensor(21.), tensor(19.), tensor(26.), tensor(22.), tensor(21.), tensor(27.), tensor(17.), tensor(14.), tensor(13.), tensor(12.), tensor(11.), tensor(10.), tensor(11.), tensor(14.), tensor(14.), tensor(11.), tensor(14.), tensor(18.), tensor(11.), tensor(10.), tensor(25.), tensor(24.), tensor(23.), tensor(22.), tensor(25.), tensor(25.), tensor(23.), tensor(24.), tensor(27.), tensor(27.), tensor(27.), tensor(24.), tensor(18.), tensor(15.), tensor(11.), tensor(12.), tensor(14.), tensor(16.), tensor(14.), tensor(15.), tensor(14.), tensor(17.), tensor(19.), tensor(18.), tensor(20.), tensor(21.), tensor(28.), tensor(28.), tensor(22.), tensor(20.), tensor(24.), tensor(23.), tensor(22.), tensor(18.), tensor(14.), tensor(11.), tensor(14.), tensor(13.), tensor(18.), tensor(17.), tensor(17.), tensor(12.), tensor(16.), tensor(17.), tensor(15.), tensor(12.), tensor(17.), tensor(20.), tensor(17.), tensor(21.), tensor(23.), tensor(24.), tensor(18.), tensor(16.), tensor(16.), tensor(12.), tensor(13.), tensor(21.), tensor(15.), tensor(12.), tensor(15.), tensor(19.), tensor(18.), tensor(16.), tensor(16.), tensor(23.), tensor(24.), tensor(22.), tensor(27.), tensor(14.), tensor(21.), tensor(14.), tensor(15.), tensor(14.), tensor(18.), tensor(26.), tensor(19.), tensor(26.), tensor(15.), tensor(24.), tensor(15.), tensor(19.), tensor(15.), tensor(14.), tensor(11.), tensor(15.), tensor(16.), tensor(26.), tensor(26.), tensor(20.), tensor(16.), tensor(16.), tensor(14.), tensor(14.), tensor(15.), tensor(19.), tensor(16.), tensor(17.), tensor(20.), tensor(19.), tensor(22.), tensor(24.), tensor(26.), tensor(26.), tensor(17.), tensor(9.), tensor(15.), tensor(21.), tensor(18.), tensor(27.), tensor(23.), tensor(19.), tensor(16.), tensor(17.), tensor(20.), tensor(19.), tensor(20.), tensor(19.), tensor(12.), tensor(14.), tensor(13.), tensor(11.), tensor(14.), tensor(17.), tensor(26.), tensor(24.), tensor(28.), tensor(24.), tensor(22.), tensor(21.), tensor(18.), tensor(16.), tensor(19.), tensor(19.), tensor(19.), tensor(19.), tensor(22.), tensor(19.), tensor(25.), tensor(23.), tensor(24.), tensor(25.), tensor(21.), tensor(31.), tensor(28.), tensor(19.), tensor(15.), tensor(12.), tensor(21.), tensor(19.), tensor(19.), tensor(20.), tensor(17.), tensor(18.), tensor(23.), tensor(23.), tensor(25.), tensor(30.), tensor(23.), tensor(19.), tensor(18.), tensor(27.), tensor(25.), tensor(20.), tensor(25.), tensor(22.), tensor(24.), tensor(26.), tensor(18.), tensor(15.), tensor(16.), tensor(12.), tensor(13.), tensor(14.), tensor(15.), tensor(14.), tensor(17.), tensor(17.), tensor(21.), tensor(23.), tensor(23.), tensor(16.), tensor(20.), tensor(19.), tensor(11.), tensor(14.), tensor(13.), tensor(12.), tensor(11.), tensor(15.), tensor(19.), tensor(19.), tensor(18.), tensor(17.), tensor(15.), tensor(20.), tensor(19.), tensor(20.), tensor(18.), tensor(21.), tensor(19.), tensor(19.), tensor(17.), tensor(25.), tensor(17.), tensor(13.), tensor(16.), tensor(12.), tensor(15.), tensor(14.), tensor(12.), tensor(20.), tensor(19.), tensor(20.), tensor(22.), tensor(24.), tensor(20.), tensor(21.), tensor(22.), tensor(22.), tensor(19.), tensor(21.), tensor(25.), tensor(25.), tensor(29.), tensor(27.), tensor(20.), tensor(13.), tensor(15.), tensor(13.), tensor(15.), tensor(17.), tensor(15.), tensor(17.), tensor(20.), tensor(28.), tensor(22.), tensor(16.), tensor(12.), tensor(11.), tensor(14.), tensor(16.), tensor(18.), tensor(29.), tensor(24.), tensor(27.), tensor(23.), tensor(19.), tensor(21.), tensor(15.), tensor(15.), tensor(20.), tensor(16.), tensor(18.), tensor(18.), tensor(20.), tensor(16.), tensor(22.), tensor(16.), tensor(13.), tensor(5.), tensor(5.), tensor(27.), tensor(22.), tensor(21.), tensor(16.), tensor(19.), tensor(14.), tensor(13.), tensor(13.), tensor(14.), tensor(17.), tensor(17.), tensor(19.), tensor(20.), tensor(16.), tensor(20.), tensor(22.), tensor(18.), tensor(8.), tensor(12.), tensor(13.), tensor(16.), tensor(22.), tensor(20.), tensor(25.), tensor(19.), tensor(24.), tensor(17.), tensor(15.), tensor(24.), tensor(16.), tensor(13.), tensor(8.), tensor(8.), tensor(13.), tensor(10.), tensor(9.), tensor(14.), tensor(18.), tensor(16.), tensor(18.), tensor(23.), tensor(17.), tensor(15.), tensor(18.), tensor(18.), tensor(17.), tensor(15.), tensor(12.), tensor(12.), tensor(15.), tensor(17.), tensor(19.), tensor(26.), tensor(23.), tensor(20.), tensor(20.), tensor(28.), tensor(19.), tensor(22.), tensor(21.), tensor(23.), tensor(26.), tensor(18.), tensor(16.), tensor(15.), tensor(22.), tensor(18.), tensor(13.), tensor(17.), tensor(19.), tensor(20.), tensor(26.), tensor(28.), tensor(21.), tensor(22.), tensor(24.), tensor(23.), tensor(15.), tensor(14.), tensor(14.), tensor(18.), tensor(24.), tensor(17.), tensor(18.), tensor(17.), tensor(15.), tensor(16.), tensor(22.), tensor(20.), tensor(17.), tensor(20.), tensor(21.), tensor(21.), tensor(26.), tensor(19.), tensor(22.), tensor(22.), tensor(19.), tensor(24.), tensor(12.), tensor(20.), tensor(15.), tensor(12.), tensor(17.), tensor(18.), tensor(20.), tensor(20.), tensor(13.), tensor(18.), tensor(21.), tensor(22.), tensor(23.), tensor(24.), tensor(15.), tensor(21.), tensor(19.), tensor(21.), tensor(18.), tensor(15.), tensor(9.), tensor(17.), tensor(21.), tensor(20.), tensor(23.), tensor(25.), tensor(18.), tensor(10.), tensor(10.), tensor(19.), tensor(13.), tensor(10.), tensor(9.), tensor(20.), tensor(15.), tensor(15.), tensor(17.), tensor(19.), tensor(24.), tensor(19.), tensor(21.), tensor(20.), tensor(20.), tensor(19.), tensor(21.), tensor(21.), tensor(17.), tensor(14.), tensor(19.), tensor(23.), tensor(14.), tensor(14.), tensor(17.), tensor(17.), tensor(10.), tensor(11.), tensor(16.), tensor(17.), tensor(17.), tensor(29.), tensor(30.), tensor(25.), tensor(25.), tensor(21.), tensor(21.), tensor(18.), tensor(19.), tensor(19.), tensor(20.), tensor(21.), tensor(16.), tensor(14.), tensor(19.), tensor(23.), tensor(17.), tensor(16.), tensor(16.), tensor(16.), tensor(25.), tensor(17.), tensor(23.), tensor(18.), tensor(30.), tensor(26.), tensor(26.), tensor(19.), tensor(16.), tensor(16.), tensor(22.), tensor(13.), tensor(12.), tensor(13.), tensor(17.), tensor(13.), tensor(16.), tensor(19.), tensor(18.), tensor(21.), tensor(21.), tensor(17.), tensor(12.), tensor(7.), tensor(10.), tensor(8.), tensor(6.), tensor(13.), tensor(17.), tensor(20.), tensor(21.), tensor(31.), tensor(23.), tensor(19.), tensor(17.), tensor(22.), tensor(26.), tensor(23.), tensor(23.), tensor(14.), tensor(16.), tensor(16.), tensor(16.), tensor(19.), tensor(18.), tensor(25.), tensor(18.), tensor(13.), tensor(16.), tensor(14.), tensor(11.), tensor(13.), tensor(9.), tensor(20.), tensor(23.), tensor(20.), tensor(20.), tensor(22.), tensor(13.), tensor(16.), tensor(20.), tensor(23.), tensor(11.), tensor(24.), tensor(21.), tensor(20.), tensor(21.), tensor(11.), tensor(16.), tensor(10.), tensor(12.), tensor(18.), tensor(22.), tensor(14.), tensor(21.), tensor(18.), tensor(27.), tensor(17.), tensor(19.), tensor(18.), tensor(15.), tensor(19.), tensor(21.), tensor(26.), tensor(18.), tensor(21.), tensor(16.), tensor(12.), tensor(11.), tensor(13.), tensor(12.), tensor(12.), tensor(11.), tensor(13.), tensor(16.), tensor(15.), tensor(22.), tensor(17.), tensor(17.), tensor(15.), tensor(17.), tensor(24.), tensor(26.), tensor(14.), tensor(21.), tensor(20.), tensor(22.), tensor(19.), tensor(25.), tensor(19.), tensor(22.), tensor(18.), tensor(23.), tensor(23.), tensor(21.), tensor(15.), tensor(25.), tensor(19.), tensor(23.), tensor(21.), tensor(25.), tensor(24.), tensor(17.), tensor(18.), tensor(19.), tensor(16.), tensor(12.), tensor(21.), tensor(20.), tensor(18.), tensor(17.), tensor(27.), tensor(28.), tensor(28.), tensor(27.), tensor(29.), tensor(23.), tensor(27.), tensor(12.), tensor(11.), tensor(16.), tensor(20.), tensor(15.), tensor(17.), tensor(18.), tensor(13.), tensor(15.), tensor(12.), tensor(16.), tensor(11.), tensor(17.), tensor(16.), tensor(16.), tensor(15.), tensor(14.), tensor(11.), tensor(18.), tensor(22.), tensor(22.), tensor(18.), tensor(11.), tensor(9.), tensor(15.), tensor(15.), tensor(16.), tensor(13.), tensor(20.), tensor(15.), tensor(19.), tensor(24.), tensor(27.), tensor(23.), tensor(25.), tensor(17.), tensor(19.), tensor(19.), tensor(25.), tensor(14.), tensor(20.), tensor(17.), tensor(14.), tensor(9.), tensor(14.), tensor(12.), tensor(7.), tensor(23.), tensor(19.), tensor(20.), tensor(17.), tensor(25.), tensor(25.), tensor(13.), tensor(12.), tensor(14.), tensor(10.), tensor(14.), tensor(21.), tensor(22.), tensor(28.), tensor(29.), tensor(18.), tensor(22.), tensor(19.), tensor(22.), tensor(20.), tensor(17.), tensor(20.), tensor(15.), tensor(14.), tensor(22.), tensor(21.), tensor(20.), tensor(16.), tensor(19.), tensor(27.), tensor(21.), tensor(19.), tensor(16.), tensor(18.), tensor(24.), tensor(30.), tensor(17.), tensor(26.), tensor(13.), tensor(21.), tensor(15.), tensor(19.), tensor(17.), tensor(26.), tensor(14.), tensor(13.), tensor(17.), tensor(17.), tensor(13.), tensor(15.), tensor(10.), tensor(16.), tensor(16.), tensor(14.), tensor(18.), tensor(17.), tensor(20.), tensor(17.), tensor(24.), tensor(25.), tensor(16.), tensor(19.), tensor(15.), tensor(14.), tensor(17.), tensor(8.), tensor(15.), tensor(13.), tensor(19.), tensor(14.), tensor(17.), tensor(18.), tensor(15.), tensor(21.), tensor(17.), tensor(16.), tensor(20.), tensor(24.), tensor(20.), tensor(21.), tensor(18.), tensor(16.), tensor(11.), tensor(17.), tensor(18.), tensor(18.), tensor(18.), tensor(16.), tensor(15.), tensor(16.), tensor(11.), tensor(15.), tensor(15.), tensor(13.), tensor(10.), tensor(12.), tensor(12.), tensor(14.), tensor(12.), tensor(12.), tensor(13.), tensor(17.), tensor(14.), tensor(12.), tensor(14.), tensor(13.), tensor(22.), tensor(22.), tensor(22.), tensor(20.), tensor(20.), tensor(19.), tensor(14.), tensor(11.), tensor(14.), tensor(13.), tensor(20.), tensor(20.), tensor(18.), tensor(13.), tensor(14.), tensor(14.), tensor(18.), tensor(16.), tensor(16.), tensor(11.), tensor(11.), tensor(17.), tensor(18.), tensor(19.), tensor(25.), tensor(25.), tensor(25.), tensor(17.), tensor(18.), tensor(16.), tensor(13.), tensor(17.), tensor(17.), tensor(14.), tensor(15.), tensor(10.), tensor(8.), tensor(15.), tensor(19.), tensor(17.), tensor(19.), tensor(17.), tensor(15.), tensor(19.), tensor(17.), tensor(19.), tensor(20.), tensor(21.), tensor(28.), tensor(26.), tensor(24.), tensor(28.), tensor(26.), tensor(24.), tensor(21.), tensor(21.), tensor(26.), tensor(17.), tensor(19.), tensor(21.), tensor(18.), tensor(20.), tensor(25.), tensor(22.), tensor(26.), tensor(24.), tensor(21.), tensor(26.), tensor(22.), tensor(16.), tensor(22.), tensor(24.), tensor(23.), tensor(17.), tensor(21.), tensor(22.), tensor(24.), tensor(20.), tensor(20.), tensor(17.), tensor(22.), tensor(14.), tensor(15.), tensor(12.), tensor(17.), tensor(15.), tensor(17.), tensor(20.), tensor(25.), tensor(20.), tensor(25.), tensor(24.), tensor(12.), tensor(8.), tensor(11.), tensor(13.), tensor(11.), tensor(12.), tensor(17.), tensor(17.), tensor(16.), tensor(12.), tensor(15.), tensor(25.), tensor(19.), tensor(9.), tensor(18.), tensor(12.), tensor(20.), tensor(22.), tensor(19.), tensor(17.), tensor(14.), tensor(24.), tensor(22.), tensor(21.), tensor(16.), tensor(11.), tensor(14.), tensor(14.), tensor(18.), tensor(20.), tensor(18.), tensor(19.), tensor(23.), tensor(19.), tensor(9.), tensor(10.), tensor(14.), tensor(16.), tensor(13.), tensor(10.), tensor(17.), tensor(13.), tensor(9.), tensor(10.), tensor(15.), tensor(17.), tensor(19.), tensor(17.), tensor(19.), tensor(15.), tensor(15.), tensor(16.), tensor(20.), tensor(12.), tensor(11.), tensor(9.), tensor(17.), tensor(11.), tensor(14.), tensor(14.), tensor(15.), tensor(15.), tensor(18.), tensor(19.), tensor(15.), tensor(19.), tensor(16.), tensor(22.), tensor(20.), tensor(21.), tensor(20.), tensor(18.), tensor(21.), tensor(17.), tensor(16.), tensor(12.), tensor(10.), tensor(8.), tensor(18.), tensor(19.), tensor(19.), tensor(17.), tensor(16.), tensor(17.), tensor(14.), tensor(14.), tensor(17.), tensor(14.), tensor(17.), tensor(14.), tensor(14.), tensor(13.), tensor(13.), tensor(11.), tensor(16.), tensor(14.), tensor(19.), tensor(12.), tensor(12.), tensor(14.), tensor(17.), tensor(14.), tensor(15.), tensor(13.), tensor(15.), tensor(12.), tensor(5.), tensor(3.), tensor(23.), tensor(20.), tensor(17.), tensor(23.), tensor(28.), tensor(22.), tensor(21.), tensor(26.), tensor(25.), tensor(27.), tensor(24.), tensor(25.), tensor(24.), tensor(21.), tensor(20.), tensor(21.), tensor(23.), tensor(20.), tensor(18.), tensor(16.), tensor(13.), tensor(17.), tensor(14.), tensor(14.), tensor(18.), tensor(17.), tensor(17.), tensor(18.), tensor(20.), tensor(21.), tensor(22.), tensor(20.), tensor(14.), tensor(15.), tensor(18.), tensor(15.), tensor(23.), tensor(22.), tensor(23.), tensor(18.), tensor(18.), tensor(20.), tensor(20.), tensor(24.), tensor(20.), tensor(17.), tensor(20.), tensor(20.), tensor(17.), tensor(13.), tensor(23.), tensor(21.), tensor(20.), tensor(14.), tensor(23.), tensor(18.), tensor(16.), tensor(20.), tensor(22.), tensor(20.), tensor(18.), tensor(17.), tensor(17.), tensor(14.), tensor(19.), tensor(18.), tensor(19.), tensor(14.), tensor(10.), tensor(17.), tensor(16.), tensor(22.), tensor(20.), tensor(23.), tensor(15.), tensor(14.), tensor(19.), tensor(20.), tensor(22.), tensor(26.), tensor(19.), tensor(20.), tensor(15.), tensor(14.), tensor(17.), tensor(18.), tensor(26.), tensor(20.), tensor(24.), tensor(19.), tensor(20.), tensor(17.), tensor(17.), tensor(14.), tensor(15.), tensor(17.), tensor(12.), tensor(19.), tensor(19.), tensor(21.), tensor(22.), tensor(27.), tensor(23.), tensor(18.), tensor(18.), tensor(17.), tensor(18.), tensor(8.), tensor(8.), tensor(21.), tensor(15.), tensor(20.), tensor(23.), tensor(23.), tensor(21.), tensor(26.), tensor(19.), tensor(17.), tensor(20.), tensor(23.), tensor(18.), tensor(17.), tensor(13.), tensor(17.), tensor(18.), tensor(18.), tensor(23.), tensor(21.), tensor(18.), tensor(18.), tensor(21.), tensor(10.), tensor(14.), tensor(17.), tensor(16.), tensor(12.), tensor(10.), tensor(16.), tensor(15.), tensor(28.), tensor(31.), tensor(26.), tensor(23.), tensor(24.), tensor(22.), tensor(20.), tensor(18.), tensor(18.), tensor(18.), tensor(27.), tensor(18.), tensor(13.), tensor(17.), tensor(18.), tensor(16.), tensor(19.), tensor(24.), tensor(21.), tensor(17.), tensor(21.), tensor(17.), tensor(15.), tensor(21.), tensor(20.), tensor(17.), tensor(16.), tensor(16.), tensor(16.), tensor(18.), tensor(22.), tensor(29.)]\n",
      "18.143547\n"
     ]
    }
   ],
   "source": [
    "import torch_geometric\n",
    "from torch_geometric.utils import degree\n",
    "import numpy\n",
    "num_neighbors = [degree for degree in degree(gnnInputData.edge_index[1])]\n",
    "print(num_neighbors[train_eval_test_index[0]:])\n",
    "neighbor_nodes_mean = numpy.mean(num_neighbors[train_eval_test_index[0]:])\n",
    "print(neighbor_nodes_mean)"
   ]
  },
  {
   "cell_type": "code",
   "execution_count": 74,
   "metadata": {},
   "outputs": [],
   "source": [
    "train_loader =  NeighborLoader(gnnInputData, input_nodes=train_idx,\n",
    "                              shuffle=False, num_workers=os.cpu_count() - 2,\n",
    "                              batch_size=32, num_neighbors=[neighbor_nodes_mean]*2)\n",
    "total_loader = NeighborLoader(gnnInputData, input_nodes=None, num_neighbors=[-1],\n",
    "                               shuffle=False,\n",
    "                               num_workers=os.cpu_count() - 2)\n"
   ]
  },
  {
   "cell_type": "code",
   "execution_count": 76,
   "metadata": {},
   "outputs": [],
   "source": [
    "#Graph Sample and Aggregation\n",
    "class SAGE(torch.nn.Module):\n",
    "    def __init__(self, in_channels, hidden_channels, out_channels, n_layers=2):\n",
    "        super(SAGE, self).__init__()\n",
    "        self.n_layers = n_layers\n",
    "        self.layers = torch.nn.ModuleList()\n",
    "        self.layers_bn = torch.nn.ModuleList() #batch normalization\n",
    "\n",
    "        if n_layers == 1:\n",
    "            self.layers.append(SAGEConv(in_channels, out_channels, normalize=False))\n",
    "        elif n_layers == 2:\n",
    "            self.layers.append(SAGEConv(in_channels, hidden_channels, normalize=False))\n",
    "            self.layers_bn.append(torch.nn.BatchNorm1d(hidden_channels))\n",
    "            self.layers.append(SAGEConv(hidden_channels, out_channels, normalize=False))\n",
    "        else:\n",
    "            self.layers.append(SAGEConv(in_channels, hidden_channels, normalize=False))\n",
    "            self.layers_bn.append(torch.nn.BatchNorm1d(hidden_channels))\n",
    "\n",
    "        for _ in range(n_layers - 2):\n",
    "            self.layers.append(SAGEConv(hidden_channels, hidden_channels, normalize=False))\n",
    "            self.layers_bn.append(torch.nn.BatchNorm1d(hidden_channels))\n",
    "\n",
    "            self.layers.append(SAGEConv(hidden_channels, out_channels, normalize=False))\n",
    "\n",
    "        for layer in self.layers:\n",
    "            layer.reset_parameters()\n",
    "\n",
    "    def forward(self, x, edge_index):\n",
    "        if len(self.layers) > 1:\n",
    "            looper = self.layers[:-1]\n",
    "        else:\n",
    "            looper = self.layers\n",
    "        \n",
    "        for i, layer in enumerate(looper):\n",
    "            x = layer(x, edge_index)\n",
    "            try:\n",
    "                x = self.layers_bn[i](x)\n",
    "            except Exception as e:\n",
    "                abs(1)\n",
    "            finally:\n",
    "                x = F.relu(x)\n",
    "                x = F.dropout(x, p=0.5, training=self.training)\n",
    "\n",
    "        if len(self.layers) > 1:\n",
    "            x = self.layers[-1](x, edge_index)\n",
    "        return F.log_softmax(x, dim=-1), torch.var(x)\n",
    "\n",
    "    def inference(self, total_loader, device):\n",
    "        xs = []\n",
    "        var_ = []\n",
    "        for batch in total_loader:\n",
    "            out, var = self.forward(batch.x.to(device), batch.edge_index.to(device))\n",
    "            out = out[:batch.batch_size]\n",
    "            xs.append(out.cpu())\n",
    "            var_.append(var.item())\n",
    "\n",
    "        out_all = torch.cat(xs, dim=0)\n",
    "\n",
    "        return out_all, var_"
   ]
  },
  {
   "cell_type": "code",
   "execution_count": 77,
   "metadata": {},
   "outputs": [],
   "source": [
    "target_dataset = 'ogbn-arxiv'\n",
    "def test(model, device):\n",
    "    evaluator = Evaluator(name=target_dataset)\n",
    "    model.eval()\n",
    "    out, var = model.inference(total_loader, device)\n",
    "    y_true = gnnInputData.y.cpu()\n",
    "    y_pred = out.argmax(dim=-1, keepdim=True)\n",
    "    \n",
    "    train_acc = evaluator.eval({\n",
    "        'y_true': y_true[train_idx],\n",
    "        'y_pred': y_pred[train_idx],\n",
    "    })['acc']\n",
    "    val_acc = evaluator.eval({\n",
    "        'y_true': y_true[eval_idx],\n",
    "        'y_pred': y_pred[eval_idx],\n",
    "    })['acc']\n",
    "    test_acc = evaluator.eval({\n",
    "        'y_true': y_true[test_idx],\n",
    "        'y_pred': y_pred[test_idx],\n",
    "    })['acc']\n",
    "    \n",
    "    return train_acc, val_acc, test_acc, torch.mean(torch.Tensor(var)), y_true, out"
   ]
  },
  {
   "cell_type": "code",
   "execution_count": 81,
   "metadata": {},
   "outputs": [],
   "source": [
    "class FocalLoss(torch.nn.Module):\n",
    "    def __init__(self, gamma=2, alpha=None, reduction='mean'):\n",
    "        super(FocalLoss, self).__init__()\n",
    "        self.gamma = gamma\n",
    "        self.alpha = alpha\n",
    "        self.reduction = reduction\n",
    "\n",
    "    def forward(self, input, target):\n",
    "        ce_loss = F.nll_loss(input, target, reduction='none')\n",
    "        pt = torch.exp(-ce_loss)\n",
    "        focal_loss = (1 - pt) ** self.gamma * ce_loss\n",
    "\n",
    "        if self.alpha is not None:\n",
    "            focal_loss = self.alpha[target] * focal_loss\n",
    "\n",
    "        if self.reduction == 'mean':\n",
    "            return torch.mean(focal_loss)\n",
    "        elif self.reduction == 'sum':\n",
    "            return torch.sum(focal_loss)\n",
    "        else:\n",
    "            return focal_loss\n",
    "\n",
    "def creterion(lossFunction , weight, out, y_true):\n",
    "    loss = 1\n",
    "    match lossFunction:\n",
    "        case 'CrossEntrophyLoss':\n",
    "            loss = F.nll_loss(out, torch.reshape(y_true, (-1,)))\n",
    "        case 'FocalLoss':\n",
    "            focalLoss = FocalLoss(gamma=2,alpha=weight,reduction='mean')\n",
    "            loss = focalLoss(out, torch.reshape(y_true, (-1,)))\n",
    "\n",
    "    return loss"
   ]
  },
  {
   "cell_type": "code",
   "execution_count": 82,
   "metadata": {},
   "outputs": [
    {
     "name": "stderr",
     "output_type": "stream",
     "text": [
      "Epoch 01: 100%|██████████| 1087/1087 [00:05<00:00, 202.51it/s]\n"
     ]
    },
    {
     "name": "stdout",
     "output_type": "stream",
     "text": [
      "TrainAcc: 0.5400, ValAcc: 0.5896, TestAcc: 0.5209, trainLoss: 1.0103, evalLoss: 0.9630, testLoss: 1.0260\n",
      "Validation loss decreased (inf --> 1.026008).  Saving model ...\n",
      "[[189 318  27]\n",
      " [276 888  38]\n",
      " [ 91 303  23]]\n"
     ]
    },
    {
     "name": "stderr",
     "output_type": "stream",
     "text": [
      "Epoch 02: 100%|██████████| 1087/1087 [00:04<00:00, 267.73it/s]\n"
     ]
    },
    {
     "name": "stdout",
     "output_type": "stream",
     "text": [
      "TrainAcc: 0.5593, ValAcc: 0.6179, TestAcc: 0.5515, trainLoss: 0.9729, evalLoss: 0.9119, testLoss: 0.9963\n",
      "Validation loss decreased (1.026008 --> 0.996307).  Saving model ...\n",
      "[[243 276  15]\n",
      " [290 884  28]\n",
      " [100 297  20]]\n"
     ]
    },
    {
     "name": "stderr",
     "output_type": "stream",
     "text": [
      "Epoch 03: 100%|██████████| 1087/1087 [00:03<00:00, 283.68it/s]\n"
     ]
    },
    {
     "name": "stdout",
     "output_type": "stream",
     "text": [
      "TrainAcc: 0.5851, ValAcc: 0.6321, TestAcc: 0.5822, trainLoss: 0.9517, evalLoss: 0.8871, testLoss: 0.9785\n",
      "Validation loss decreased (0.996307 --> 0.978471).  Saving model ...\n",
      "[[267 258   9]\n",
      " [273 909  20]\n",
      " [ 97 297  23]]\n"
     ]
    },
    {
     "name": "stderr",
     "output_type": "stream",
     "text": [
      "Epoch 04: 100%|██████████| 1087/1087 [00:03<00:00, 277.90it/s]\n"
     ]
    },
    {
     "name": "stdout",
     "output_type": "stream",
     "text": [
      "TrainAcc: 0.5980, ValAcc: 0.6462, TestAcc: 0.5766, trainLoss: 0.9371, evalLoss: 0.8758, testLoss: 0.9662\n",
      "Validation loss decreased (0.978471 --> 0.966205).  Saving model ...\n",
      "[[292 232  10]\n",
      " [277 905  20]\n",
      " [ 95 297  25]]\n"
     ]
    },
    {
     "name": "stderr",
     "output_type": "stream",
     "text": [
      "Epoch 05: 100%|██████████| 1087/1087 [00:03<00:00, 279.97it/s]\n"
     ]
    },
    {
     "name": "stdout",
     "output_type": "stream",
     "text": [
      "TrainAcc: 0.6053, ValAcc: 0.6698, TestAcc: 0.5822, trainLoss: 0.9260, evalLoss: 0.8694, testLoss: 0.9585\n",
      "Validation loss decreased (0.966205 --> 0.958522).  Saving model ...\n",
      "[[302 219  13]\n",
      " [277 902  23]\n",
      " [ 90 295  32]]\n"
     ]
    },
    {
     "name": "stderr",
     "output_type": "stream",
     "text": [
      "Epoch 06: 100%|██████████| 1087/1087 [00:03<00:00, 277.54it/s]\n"
     ]
    },
    {
     "name": "stdout",
     "output_type": "stream",
     "text": [
      "TrainAcc: 0.6053, ValAcc: 0.6698, TestAcc: 0.5933, trainLoss: 0.9153, evalLoss: 0.8601, testLoss: 0.9510\n",
      "Validation loss decreased (0.958522 --> 0.950989).  Saving model ...\n",
      "[[320 203  11]\n",
      " [286 895  21]\n",
      " [ 96 290  31]]\n"
     ]
    },
    {
     "name": "stderr",
     "output_type": "stream",
     "text": [
      "Epoch 07: 100%|██████████| 1087/1087 [00:03<00:00, 273.78it/s]\n"
     ]
    },
    {
     "name": "stdout",
     "output_type": "stream",
     "text": [
      "TrainAcc: 0.6274, ValAcc: 0.6698, TestAcc: 0.5933, trainLoss: 0.9061, evalLoss: 0.8551, testLoss: 0.9439\n",
      "Validation loss decreased (0.950989 --> 0.943863).  Saving model ...\n",
      "[[340 183  11]\n",
      " [280 899  23]\n",
      " [ 93 286  38]]\n"
     ]
    },
    {
     "name": "stderr",
     "output_type": "stream",
     "text": [
      "Epoch 08: 100%|██████████| 1087/1087 [00:03<00:00, 282.51it/s]\n"
     ]
    },
    {
     "name": "stdout",
     "output_type": "stream",
     "text": [
      "TrainAcc: 0.6237, ValAcc: 0.6651, TestAcc: 0.5961, trainLoss: 0.8999, evalLoss: 0.8518, testLoss: 0.9386\n",
      "Validation loss decreased (0.943863 --> 0.938586).  Saving model ...\n",
      "[[358 167   9]\n",
      " [300 880  22]\n",
      " [ 95 281  41]]\n"
     ]
    },
    {
     "name": "stderr",
     "output_type": "stream",
     "text": [
      "Epoch 09: 100%|██████████| 1087/1087 [00:03<00:00, 278.82it/s]\n"
     ]
    },
    {
     "name": "stdout",
     "output_type": "stream",
     "text": [
      "TrainAcc: 0.6274, ValAcc: 0.6698, TestAcc: 0.6072, trainLoss: 0.8919, evalLoss: 0.8454, testLoss: 0.9344\n",
      "Validation loss decreased (0.938586 --> 0.934382).  Saving model ...\n",
      "[[362 163   9]\n",
      " [303 877  22]\n",
      " [ 89 281  47]]\n"
     ]
    },
    {
     "name": "stderr",
     "output_type": "stream",
     "text": [
      "Epoch 10: 100%|██████████| 1087/1087 [00:03<00:00, 282.43it/s]\n"
     ]
    },
    {
     "name": "stdout",
     "output_type": "stream",
     "text": [
      "TrainAcc: 0.6320, ValAcc: 0.6509, TestAcc: 0.6184, trainLoss: 0.8854, evalLoss: 0.8430, testLoss: 0.9307\n",
      "Validation loss decreased (0.934382 --> 0.930673).  Saving model ...\n",
      "[[367 157  10]\n",
      " [302 877  23]\n",
      " [ 90 277  50]]\n"
     ]
    },
    {
     "name": "stderr",
     "output_type": "stream",
     "text": [
      "Epoch 11: 100%|██████████| 1087/1087 [00:03<00:00, 281.63it/s]\n"
     ]
    },
    {
     "name": "stdout",
     "output_type": "stream",
     "text": [
      "TrainAcc: 0.6228, ValAcc: 0.6274, TestAcc: 0.6212, trainLoss: 0.8853, evalLoss: 0.8480, testLoss: 0.9307\n",
      "EarlyStopping counter: 1 out of 15\n"
     ]
    },
    {
     "name": "stderr",
     "output_type": "stream",
     "text": [
      "Epoch 12: 100%|██████████| 1087/1087 [00:03<00:00, 274.12it/s]\n"
     ]
    },
    {
     "name": "stdout",
     "output_type": "stream",
     "text": [
      "TrainAcc: 0.6293, ValAcc: 0.6226, TestAcc: 0.6240, trainLoss: 0.8825, evalLoss: 0.8490, testLoss: 0.9285\n",
      "Validation loss decreased (0.930673 --> 0.928490).  Saving model ...\n",
      "[[388 131  15]\n",
      " [332 835  35]\n",
      " [ 88 266  63]]\n"
     ]
    },
    {
     "name": "stderr",
     "output_type": "stream",
     "text": [
      "Epoch 13: 100%|██████████| 1087/1087 [00:03<00:00, 276.07it/s]\n"
     ]
    },
    {
     "name": "stdout",
     "output_type": "stream",
     "text": [
      "TrainAcc: 0.6219, ValAcc: 0.6321, TestAcc: 0.6128, trainLoss: 0.8888, evalLoss: 0.8612, testLoss: 0.9343\n",
      "EarlyStopping counter: 1 out of 15\n"
     ]
    },
    {
     "name": "stderr",
     "output_type": "stream",
     "text": [
      "Epoch 14: 100%|██████████| 1087/1087 [00:03<00:00, 279.18it/s]\n"
     ]
    },
    {
     "name": "stdout",
     "output_type": "stream",
     "text": [
      "TrainAcc: 0.6339, ValAcc: 0.6274, TestAcc: 0.6128, trainLoss: 0.8775, evalLoss: 0.8510, testLoss: 0.9307\n",
      "EarlyStopping counter: 2 out of 15\n"
     ]
    },
    {
     "name": "stderr",
     "output_type": "stream",
     "text": [
      "Epoch 15: 100%|██████████| 1087/1087 [00:04<00:00, 266.22it/s]\n"
     ]
    },
    {
     "name": "stdout",
     "output_type": "stream",
     "text": [
      "TrainAcc: 0.6339, ValAcc: 0.6179, TestAcc: 0.6072, trainLoss: 0.8818, evalLoss: 0.8636, testLoss: 0.9344\n",
      "EarlyStopping counter: 3 out of 15\n"
     ]
    },
    {
     "name": "stderr",
     "output_type": "stream",
     "text": [
      "Epoch 16: 100%|██████████| 1087/1087 [00:03<00:00, 273.92it/s]\n"
     ]
    },
    {
     "name": "stdout",
     "output_type": "stream",
     "text": [
      "TrainAcc: 0.6274, ValAcc: 0.6179, TestAcc: 0.5989, trainLoss: 0.8866, evalLoss: 0.8732, testLoss: 0.9395\n",
      "EarlyStopping counter: 4 out of 15\n"
     ]
    },
    {
     "name": "stderr",
     "output_type": "stream",
     "text": [
      "Epoch 17: 100%|██████████| 1087/1087 [00:04<00:00, 263.14it/s]\n"
     ]
    },
    {
     "name": "stdout",
     "output_type": "stream",
     "text": [
      "TrainAcc: 0.6293, ValAcc: 0.6085, TestAcc: 0.6017, trainLoss: 0.8839, evalLoss: 0.8695, testLoss: 0.9381\n",
      "EarlyStopping counter: 5 out of 15\n"
     ]
    },
    {
     "name": "stderr",
     "output_type": "stream",
     "text": [
      "Epoch 18: 100%|██████████| 1087/1087 [00:04<00:00, 229.12it/s]\n"
     ]
    },
    {
     "name": "stdout",
     "output_type": "stream",
     "text": [
      "TrainAcc: 0.6293, ValAcc: 0.6085, TestAcc: 0.6045, trainLoss: 0.8825, evalLoss: 0.8678, testLoss: 0.9375\n",
      "EarlyStopping counter: 6 out of 15\n"
     ]
    },
    {
     "name": "stderr",
     "output_type": "stream",
     "text": [
      "Epoch 19: 100%|██████████| 1087/1087 [00:03<00:00, 283.17it/s]\n"
     ]
    },
    {
     "name": "stdout",
     "output_type": "stream",
     "text": [
      "TrainAcc: 0.6302, ValAcc: 0.6085, TestAcc: 0.6017, trainLoss: 0.8807, evalLoss: 0.8657, testLoss: 0.9369\n",
      "EarlyStopping counter: 7 out of 15\n"
     ]
    },
    {
     "name": "stderr",
     "output_type": "stream",
     "text": [
      "Epoch 20: 100%|██████████| 1087/1087 [00:04<00:00, 251.02it/s]\n"
     ]
    },
    {
     "name": "stdout",
     "output_type": "stream",
     "text": [
      "TrainAcc: 0.6302, ValAcc: 0.6132, TestAcc: 0.6017, trainLoss: 0.8805, evalLoss: 0.8658, testLoss: 0.9371\n",
      "EarlyStopping counter: 8 out of 15\n"
     ]
    },
    {
     "name": "stderr",
     "output_type": "stream",
     "text": [
      "Epoch 21: 100%|██████████| 1087/1087 [00:04<00:00, 267.27it/s]\n"
     ]
    },
    {
     "name": "stdout",
     "output_type": "stream",
     "text": [
      "TrainAcc: 0.6302, ValAcc: 0.6132, TestAcc: 0.6017, trainLoss: 0.8799, evalLoss: 0.8655, testLoss: 0.9367\n",
      "EarlyStopping counter: 9 out of 15\n"
     ]
    },
    {
     "name": "stderr",
     "output_type": "stream",
     "text": [
      "Epoch 22: 100%|██████████| 1087/1087 [00:04<00:00, 255.49it/s]\n"
     ]
    },
    {
     "name": "stdout",
     "output_type": "stream",
     "text": [
      "TrainAcc: 0.6320, ValAcc: 0.6179, TestAcc: 0.5989, trainLoss: 0.8803, evalLoss: 0.8664, testLoss: 0.9373\n",
      "EarlyStopping counter: 10 out of 15\n"
     ]
    },
    {
     "name": "stderr",
     "output_type": "stream",
     "text": [
      "Epoch 23: 100%|██████████| 1087/1087 [00:04<00:00, 267.00it/s]\n"
     ]
    },
    {
     "name": "stdout",
     "output_type": "stream",
     "text": [
      "TrainAcc: 0.6311, ValAcc: 0.6132, TestAcc: 0.5989, trainLoss: 0.8798, evalLoss: 0.8658, testLoss: 0.9370\n",
      "EarlyStopping counter: 11 out of 15\n"
     ]
    },
    {
     "name": "stderr",
     "output_type": "stream",
     "text": [
      "Epoch 24: 100%|██████████| 1087/1087 [00:04<00:00, 267.40it/s]\n"
     ]
    },
    {
     "name": "stdout",
     "output_type": "stream",
     "text": [
      "TrainAcc: 0.6320, ValAcc: 0.6179, TestAcc: 0.5989, trainLoss: 0.8801, evalLoss: 0.8662, testLoss: 0.9372\n",
      "EarlyStopping counter: 12 out of 15\n"
     ]
    },
    {
     "name": "stderr",
     "output_type": "stream",
     "text": [
      "Epoch 25: 100%|██████████| 1087/1087 [00:03<00:00, 281.27it/s]\n"
     ]
    },
    {
     "name": "stdout",
     "output_type": "stream",
     "text": [
      "TrainAcc: 0.6320, ValAcc: 0.6179, TestAcc: 0.5989, trainLoss: 0.8802, evalLoss: 0.8665, testLoss: 0.9372\n",
      "EarlyStopping counter: 13 out of 15\n"
     ]
    },
    {
     "name": "stderr",
     "output_type": "stream",
     "text": [
      "Epoch 26: 100%|██████████| 1087/1087 [00:04<00:00, 240.60it/s]\n"
     ]
    },
    {
     "name": "stdout",
     "output_type": "stream",
     "text": [
      "TrainAcc: 0.6329, ValAcc: 0.6179, TestAcc: 0.5989, trainLoss: 0.8800, evalLoss: 0.8661, testLoss: 0.9371\n",
      "EarlyStopping counter: 14 out of 15\n"
     ]
    },
    {
     "name": "stderr",
     "output_type": "stream",
     "text": [
      "Epoch 27: 100%|██████████| 1087/1087 [00:04<00:00, 246.70it/s]\n"
     ]
    },
    {
     "name": "stdout",
     "output_type": "stream",
     "text": [
      "TrainAcc: 0.6329, ValAcc: 0.6179, TestAcc: 0.5989, trainLoss: 0.8800, evalLoss: 0.8661, testLoss: 0.9372\n",
      "EarlyStopping counter: 15 out of 15\n",
      "Early stopping\n"
     ]
    }
   ],
   "source": [
    "device = torch.device('cuda' if torch.cuda.is_available() else 'cpu')\n",
    "model = SAGE(gnnInputData.x.shape[1], 256, 3, n_layers=2)\n",
    "model.to(device)\n",
    "epochs = 100\n",
    "optimizer = torch.optim.Adam(model.parameters(), lr=0.0001, weight_decay=1e-3)\n",
    "scheduler = ReduceLROnPlateau(optimizer, 'min', patience=5)\n",
    "\n",
    "import matplotlib.pyplot as plt\n",
    "from early_stopping import EarlyStopping\n",
    "save_path = \"./\"\n",
    "early_stopping = EarlyStopping(save_path,patience=15,verbose=True)\n",
    "\n",
    "train_accs = []\n",
    "val_accs = []\n",
    "test_accs = []\n",
    "total_train_loss = []\n",
    "total_eval_loss = []\n",
    "total_test_loss = []\n",
    "for epoch in range(1, epochs):\n",
    "    model.train()\n",
    "    pbar = tqdm(total=len(train_idx))\n",
    "    pbar.set_description(f'Epoch {epoch:02d}')\n",
    "    batch_loss = total_correct = 0\n",
    "    for batch in train_loader:\n",
    "        batch_size = batch.batch_size\n",
    "        optimizer.zero_grad()\n",
    "        out, _ = model(batch.x.to(device), batch.edge_index.to(device))\n",
    "        out = out[:batch_size]\n",
    "        batch_y = batch.y[:batch_size].to(device)\n",
    "        batch_y = torch.reshape(batch_y, (-1,))\n",
    "        loss = creterion(lossFunction, weight, out, batch_y)\n",
    "        loss.backward()\n",
    "        optimizer.step()\n",
    "        batch_loss += float(loss)\n",
    "        total_correct += int(out.argmax(dim=-1).eq(batch_y).sum())\n",
    "        pbar.update(batch.batch_size)\n",
    "    pbar.close()\n",
    "    # loss = batch_loss / len(train_loader)\n",
    "    approx_acc = total_correct / train_idx.size(0)\n",
    "    train_acc, val_acc, test_acc, var, y_true, out = test(model, device)\n",
    "    train_loss = creterion(lossFunction, weight, out[train_idx], torch.reshape(y_true[train_idx], (-1,)))  \n",
    "    eval_loss = creterion(lossFunction, weight, out[eval_idx], torch.reshape(y_true[eval_idx], (-1,)))\n",
    "    test_loss = creterion(lossFunction, weight, out[test_idx], torch.reshape(y_true[test_idx], (-1,)))\n",
    "    train_accs.append(train_acc)\n",
    "    val_accs.append(val_acc)\n",
    "    test_accs.append(test_acc)\n",
    "    total_train_loss.append(train_loss)\n",
    "    total_eval_loss.append(eval_loss)\n",
    "    total_test_loss.append(test_loss)\n",
    "    scheduler.step(eval_loss)\n",
    "\n",
    "    from sklearn.metrics import confusion_matrix, accuracy_score, precision_score, recall_score, f1_score\n",
    "    cm = confusion_matrix(y_true, out.argmax(dim=-1, keepdim=True))\n",
    "\n",
    "    print(f'TrainAcc: {train_acc:.4f}, ValAcc: {val_acc:.4f}, TestAcc: {test_acc:.4f}, trainLoss: {train_loss:.4f}, evalLoss: {eval_loss:.4f}, testLoss: {test_loss:.4f}')\n",
    "    #early_stopping\n",
    "    early_stopping(test_loss, model, confusion_matrix=cm, epoch=epoch, test_acc=test_acc, test_loss=test_loss)\n",
    "    if early_stopping.early_stop:\n",
    "        print(\"Early stopping\")\n",
    "        break "
   ]
  },
  {
   "cell_type": "code",
   "execution_count": 86,
   "metadata": {},
   "outputs": [
    {
     "data": {
      "image/png": "[encoded data removed]",
      "text/plain": [
       "<Figure size 640x480 with 1 Axes>"
      ]
     },
     "metadata": {},
     "output_type": "display_data"
    }
   ],
   "source": [
    "title = lossFunction\n",
    "if withGold: title += ' with gold'\n",
    "if withOil: title += ' with oil'\n",
    "plt.plot(np.arange(1, len(train_accs)+1), train_accs, label='Train Accuracy', marker='o')\n",
    "# plt.plot(np.arange(0, len(val_accs)), val_accs, label='Validation Accuracy', marker='o')\n",
    "plt.plot(np.arange(1, len(test_accs)+1), test_accs, label='Test Accuracy', marker='o')\n",
    "\n",
    "plt.annotate(f'epoch: {early_stopping.best_epoch}, test_accs: {test_accs[early_stopping.best_epoch-1]:.2f})', \n",
    "             xy=(early_stopping.best_epoch, test_accs[early_stopping.best_epoch-1]), \n",
    "             xytext=(early_stopping.best_epoch + 3, test_accs[early_stopping.best_epoch-1] - 0.02),  # 文本的位置\n",
    "             arrowprops=dict(facecolor='black', shrink=0.05),  # 箭頭的屬性\n",
    "             )\n",
    "\n",
    "plt.legend()\n",
    "plt.title(f'Accuracy vs. Epochs ({title})')\n",
    "plt.xlabel('Epochs')\n",
    "plt.ylabel('Accuracy')\n",
    "\n",
    "plt.show()"
   ]
  },
  {
   "cell_type": "code",
   "execution_count": 42,
   "metadata": {},
   "outputs": [
    {
     "data": {
      "image/png": "[encoded data removed]",
      "text/plain": [
       "<Figure size 640x480 with 1 Axes>"
      ]
     },
     "metadata": {},
     "output_type": "display_data"
    }
   ],
   "source": [
    "plt.plot(np.arange(0, len(total_train_loss)), total_train_loss, label='training loss', marker='o')\n",
    "plt.plot(np.arange(0, len(total_eval_loss)), [tensor.item() for tensor in total_eval_loss], label='eval_loss', marker='o')\n",
    "\n",
    "plt.legend()\n",
    "\n",
    "plt.title('loss vs. Epochs')\n",
    "plt.xlabel('Epochs')\n",
    "plt.ylabel('loss')\n",
    "\n",
    "plt.show()"
   ]
  }
 ],
 "metadata": {
  "kernelspec": {
   "display_name": "forGNN",
   "language": "python",
   "name": "python3"
  },
  "language_info": {
   "codemirror_mode": {
    "name": "ipython",
    "version": 3
   },
   "file_extension": ".py",
   "mimetype": "text/x-python",
   "name": "python",
   "nbconvert_exporter": "python",
   "pygments_lexer": "ipython3",
   "version": "3.10.12"
  },
  "orig_nbformat": 4
 },
 "nbformat": 4,
 "nbformat_minor": 2
}
