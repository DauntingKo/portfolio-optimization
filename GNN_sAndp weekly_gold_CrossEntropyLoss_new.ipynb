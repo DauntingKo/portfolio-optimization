{
 "cells": [
  {
   "cell_type": "code",
   "execution_count": 1,
   "metadata": {},
   "outputs": [],
   "source": [
    "import os\n",
    "import torch\n",
    "import torch.nn.functional as F\n",
    "from tqdm import tqdm\n",
    "from torch_geometric.loader import NeighborLoader\n",
    "from torch.optim.lr_scheduler import ReduceLROnPlateau\n",
    "from torch_geometric.nn import MessagePassing, SAGEConv\n",
    "from ogb.nodeproppred import Evaluator, PygNodePropPredDataset"
   ]
  },
  {
   "cell_type": "code",
   "execution_count": 2,
   "metadata": {},
   "outputs": [],
   "source": [
    "import yfinance as yf\n",
    "import pandas as pd\n",
    "import numpy as np\n",
    "from sklearn.preprocessing import StandardScaler"
   ]
  },
  {
   "cell_type": "code",
   "execution_count": 3,
   "metadata": {},
   "outputs": [],
   "source": [
    "withGold = True\n",
    "withOil = True\n",
    "# lossFunction = 'CrossEntrophyLoss'\n",
    "lossFunction = 'FocalLoss'"
   ]
  },
  {
   "cell_type": "code",
   "execution_count": 4,
   "metadata": {},
   "outputs": [
    {
     "name": "stdout",
     "output_type": "stream",
     "text": [
      "[*********************100%%**********************]  1 of 1 completed\n",
      "[*********************100%%**********************]  1 of 1 completed\n",
      "[*********************100%%**********************]  1 of 1 completed\n"
     ]
    }
   ],
   "source": [
    "start_date = \"2011-01-30\"\n",
    "end_date = \"2019-08-30\"\n",
    "yfdata = yf.download('^GSPC', start=start_date, end=end_date)\n",
    "golddata = yf.download('GC=F', start=start_date, end=end_date)\n",
    "oildata = yf.download('CL=F', start=start_date, end=end_date)"
   ]
  },
  {
   "cell_type": "code",
   "execution_count": 5,
   "metadata": {},
   "outputs": [],
   "source": [
    "yfdata_dates = yfdata.index\n",
    "golddata_dates = golddata.index\n",
    "\n",
    "# 找出 yfdata 有而 golddata 没有的日期\n",
    "missing_dates = yfdata_dates[~yfdata_dates.isin(golddata_dates)]\n",
    "missing_data = pd.DataFrame(index=missing_dates,columns=golddata.columns)\n",
    "for date in missing_dates:\n",
    "    previous_date = golddata_dates[golddata_dates < date]\n",
    "    if not previous_date.empty:\n",
    "        last_known_data = golddata.loc[previous_date.max()]\n",
    "        missing_data.loc[date] = last_known_data\n",
    "\n",
    "golddata = pd.concat([golddata, missing_data])\n",
    "golddata = golddata.add_prefix('gold ')\n",
    "golddata = golddata.sort_index()\n"
   ]
  },
  {
   "cell_type": "code",
   "execution_count": 6,
   "metadata": {},
   "outputs": [
    {
     "data": {
      "text/plain": [
       "False"
      ]
     },
     "execution_count": 6,
     "metadata": {},
     "output_type": "execute_result"
    }
   ],
   "source": [
    "golddata.isna().any().any()"
   ]
  },
  {
   "cell_type": "code",
   "execution_count": 7,
   "metadata": {},
   "outputs": [
    {
     "data": {
      "text/plain": [
       "False"
      ]
     },
     "execution_count": 7,
     "metadata": {},
     "output_type": "execute_result"
    }
   ],
   "source": [
    "yfdata_dates = yfdata.index\n",
    "oildata_dates = oildata.index\n",
    "\n",
    "# 找出 yfdata 有而 oildata 没有的日期\n",
    "missing_dates = yfdata_dates[~yfdata_dates.isin(oildata_dates)]\n",
    "missing_data = pd.DataFrame(index=missing_dates,columns=oildata.columns)\n",
    "for date in missing_dates:\n",
    "    previous_date = oildata_dates[oildata_dates < date]\n",
    "    if not previous_date.empty:\n",
    "        last_known_data = oildata.loc[previous_date.max()]\n",
    "        missing_data.loc[date] = last_known_data\n",
    "\n",
    "oildata = pd.concat([oildata, missing_data])\n",
    "oildata = oildata.add_prefix('oil ')\n",
    "oildata = oildata.sort_index()\n",
    "\n",
    "oildata.isna().any().any()"
   ]
  },
  {
   "cell_type": "code",
   "execution_count": 8,
   "metadata": {},
   "outputs": [
    {
     "name": "stderr",
     "output_type": "stream",
     "text": [
      "C:\\Users\\tony\\AppData\\Local\\Temp\\ipykernel_14124\\4164715537.py:12: FutureWarning: Series.__getitem__ treating keys as positions is deprecated. In a future version, integer keys will always be treated as labels (consistent with DataFrame behavior). To access a value by position, use `ser.iloc[pos]`\n",
      "  if np.isnan(data[price_col][i]):\n",
      "C:\\Users\\tony\\AppData\\Local\\Temp\\ipykernel_14124\\4164715537.py:15: FutureWarning: Series.__getitem__ treating keys as positions is deprecated. In a future version, integer keys will always be treated as labels (consistent with DataFrame behavior). To access a value by position, use `ser.iloc[pos]`\n",
      "  local_df.append(data[price_col][i])\n"
     ]
    }
   ],
   "source": [
    "days = 8 #多取一天後續方便計算label\n",
    "date_cols = []\n",
    "price_cols = yfdata.columns.tolist()\n",
    "price_cols.append('gold Adj Close')\n",
    "price_cols.append('oil Adj Close')\n",
    "all_data = {}\n",
    "sliding_window = 1\n",
    "\n",
    "def group_by_week(data,price_col):\n",
    "    local_df = []\n",
    "    for i in range(len(data)):\n",
    "        if np.isnan(data[price_col][i]): \n",
    "            print(str(data.index[i]))\n",
    "            break\n",
    "        local_df.append(data[price_col][i])\n",
    "        \n",
    "        if len(local_df) == days:\n",
    "            col_name = str(data.index[i - days + 1]) + ' ~ ' + str(data.index[i])\n",
    "            if price_col == price_cols[0]:\n",
    "                date_cols.append(col_name)\n",
    "            all_data[(price_col, col_name)] = local_df.copy()\n",
    "            for _ in range(sliding_window):\n",
    "                local_df.pop(0) \n",
    "\n",
    "for price_col in price_cols:\n",
    "    if price_col.startswith('gold'):\n",
    "        group_by_week(golddata, price_col)\n",
    "    elif price_col.startswith('oil'):\n",
    "        group_by_week(oildata, price_col)\n",
    "    else: \n",
    "        group_by_week(yfdata, price_col)\n",
    "\n",
    "\n",
    "multi_columns = pd.MultiIndex.from_product([price_cols,date_cols],names=['price','date'])\n",
    "group_by_days_yfdata = pd.DataFrame(data=all_data,columns=multi_columns)\n",
    "test = group_by_days_yfdata['gold Adj Close']"
   ]
  },
  {
   "cell_type": "code",
   "execution_count": 9,
   "metadata": {},
   "outputs": [
    {
     "name": "stdout",
     "output_type": "stream",
     "text": [
      "If there is NAN in data?  False\n",
      "Index(['2011-01-31 00:00:00 ~ 2011-02-09 00:00:00',\n",
      "       '2011-02-01 00:00:00 ~ 2011-02-10 00:00:00',\n",
      "       '2011-02-02 00:00:00 ~ 2011-02-11 00:00:00',\n",
      "       '2011-02-03 00:00:00 ~ 2011-02-14 00:00:00',\n",
      "       '2011-02-04 00:00:00 ~ 2011-02-15 00:00:00',\n",
      "       '2011-02-07 00:00:00 ~ 2011-02-16 00:00:00',\n",
      "       '2011-02-08 00:00:00 ~ 2011-02-17 00:00:00',\n",
      "       '2011-02-09 00:00:00 ~ 2011-02-18 00:00:00',\n",
      "       '2011-02-10 00:00:00 ~ 2011-02-22 00:00:00',\n",
      "       '2011-02-11 00:00:00 ~ 2011-02-23 00:00:00',\n",
      "       ...\n",
      "       '2019-08-07 00:00:00 ~ 2019-08-16 00:00:00',\n",
      "       '2019-08-08 00:00:00 ~ 2019-08-19 00:00:00',\n",
      "       '2019-08-09 00:00:00 ~ 2019-08-20 00:00:00',\n",
      "       '2019-08-12 00:00:00 ~ 2019-08-21 00:00:00',\n",
      "       '2019-08-13 00:00:00 ~ 2019-08-22 00:00:00',\n",
      "       '2019-08-14 00:00:00 ~ 2019-08-23 00:00:00',\n",
      "       '2019-08-15 00:00:00 ~ 2019-08-26 00:00:00',\n",
      "       '2019-08-16 00:00:00 ~ 2019-08-27 00:00:00',\n",
      "       '2019-08-19 00:00:00 ~ 2019-08-28 00:00:00',\n",
      "       '2019-08-20 00:00:00 ~ 2019-08-29 00:00:00'],\n",
      "      dtype='object', name='date', length=2153)\n"
     ]
    },
    {
     "data": {
      "text/plain": [
       "array([[ 1.        , -0.36727761, -0.27048959, ...,  0.28624785,\n",
       "        -0.30040505,  0.09645067],\n",
       "       [-0.36727761,  1.        ,  0.1310953 , ..., -0.59253527,\n",
       "        -0.17798629, -0.23256388],\n",
       "       [-0.27048959,  0.1310953 ,  1.        , ...,  0.50907856,\n",
       "        -0.30571374, -0.13618199],\n",
       "       ...,\n",
       "       [ 0.28624785, -0.59253527,  0.50907856, ...,  1.        ,\n",
       "        -0.49407569,  0.00516179],\n",
       "       [-0.30040505, -0.17798629, -0.30571374, ..., -0.49407569,\n",
       "         1.        , -0.29780148],\n",
       "       [ 0.09645067, -0.23256388, -0.13618199, ...,  0.00516179,\n",
       "        -0.29780148,  1.        ]])"
      ]
     },
     "execution_count": 9,
     "metadata": {},
     "output_type": "execute_result"
    }
   ],
   "source": [
    "data = group_by_days_yfdata\n",
    "# data = data.fillna(0)\n",
    "print(\"If there is NAN in data? \",data.isnull().values.any())\n",
    "returns = data['Adj Close'].pct_change().fillna(0) \n",
    "print(returns.keys())\n",
    "scaled_returns = StandardScaler().fit_transform(returns) #Z-score標準化:mean = 0,std = 1，後續用來計算相關性\n",
    "# 計算各週之間的相關性\n",
    "correlation_matrix = np.corrcoef(scaled_returns, rowvar=False)\n",
    "correlation_matrix"
   ]
  },
  {
   "cell_type": "code",
   "execution_count": 10,
   "metadata": {},
   "outputs": [],
   "source": [
    "from torch_geometric.data import Data"
   ]
  },
  {
   "cell_type": "code",
   "execution_count": 11,
   "metadata": {},
   "outputs": [],
   "source": [
    "def min_max_scaling(data, feature_range=(0, 1)):\n",
    "    \"\"\"\n",
    "    Min-Max Scaling for data.\n",
    "\n",
    "    Parameters:\n",
    "    - data: A NumPy array containing the data to be scaled.\n",
    "    - feature_range: A tuple specifying the desired feature range (default is [0, 1]).\n",
    "\n",
    "    Returns:\n",
    "    - scaled_data: The scaled data within the specified feature range.\n",
    "    \"\"\"\n",
    "    min_val, max_val = feature_range\n",
    "    min_data = np.min(data, axis=0)\n",
    "    max_data = np.max(data, axis=0)\n",
    "    scaled_data = (data - min_data) / (max_data - min_data) * (max_val - min_val) + min_val\n",
    "    return scaled_data"
   ]
  },
  {
   "cell_type": "code",
   "execution_count": 12,
   "metadata": {},
   "outputs": [
    {
     "name": "stderr",
     "output_type": "stream",
     "text": [
      "C:\\Users\\tony\\AppData\\Local\\Temp\\ipykernel_14124\\1094327496.py:9: UserWarning: Creating a tensor from a list of numpy.ndarrays is extremely slow. Please consider converting the list to a single numpy.ndarray with numpy.array() before converting to a tensor. (Triggered internally at ..\\torch\\csrc\\utils\\tensor_new.cpp:248.)\n",
      "  edge_index = torch.tensor([\n"
     ]
    },
    {
     "name": "stdout",
     "output_type": "stream",
     "text": [
      "Any NAN in feature_matrix=  False\n",
      "feature_matrix_shape =  torch.Size([2153, 49])\n",
      "edge size=  torch.Size([2, 34396])\n",
      "y =  torch.Size([2153, 1])\n"
     ]
    }
   ],
   "source": [
    "# 將相關性矩陣轉換為鄰接矩陣\n",
    "adjacency_matrix = torch.tensor(correlation_matrix)\n",
    "\n",
    "src_nodes, dst_nodes = np.where((adjacency_matrix > 0.7))\n",
    "directed_index = np.where((src_nodes < dst_nodes) & ((dst_nodes - src_nodes) <= 495))\n",
    "src_nodes = src_nodes[directed_index]\n",
    "dst_nodes = dst_nodes[directed_index]\n",
    "\n",
    "edge_index = torch.tensor([\n",
    "    src_nodes,  \n",
    "    dst_nodes  \n",
    "],dtype=torch.long) #邊\n",
    "\n",
    "features = ['Adj Close', 'Open', 'High', 'Low', 'Volume']\n",
    "if (withGold):\n",
    "    features.append('gold Adj Close')\n",
    "if (withOil):\n",
    "    features.append('oil Adj Close')\n",
    "num_nodes = len(returns.keys())\n",
    "num_features = len(features)\n",
    "feature_matrix = np.zeros((num_nodes, num_features,len(data)-1)) \n",
    "\n",
    "# 將數據填充到特徵矩陣中\n",
    "for i, symbol in enumerate(returns.keys()):\n",
    "    for j,feature in enumerate(features):\n",
    "        company_data = data[(feature,symbol)]\n",
    "        feature_matrix[i, j] = torch.tensor(min_max_scaling(company_data.values[:-1]),dtype=torch.float32) #取得第一天到第七天\n",
    "        \n",
    "print(\"Any NAN in feature_matrix= \",np.isnan(feature_matrix).any())\n",
    "\n",
    "feature_matrix = torch.tensor(feature_matrix,dtype=torch.float32)\n",
    "feature_matrix = feature_matrix.reshape(feature_matrix.shape[0], -1)\n",
    "\n",
    "y_list = []\n",
    "for i, symbol in enumerate(returns.keys()):\n",
    "    lastDay = data.iloc[-2][('Adj Close',symbol)] #input中最後一天的資料\n",
    "    predictDay = data.iloc[-1][('Adj Close',symbol)] #隔天的資料\n",
    "    if (lastDay/predictDay > 1.005):\n",
    "        y_list.append([2]) #下跌\n",
    "    elif ( 0.995 < lastDay/predictDay < 1.005): #應該在某個範圍內\n",
    "        y_list.append([1]) #持平\n",
    "    else:\n",
    "        y_list.append([0]) #上漲\n",
    "\n",
    "y = torch.tensor(y_list, dtype=torch.long)\n",
    "\n",
    "print(\"feature_matrix_shape = \",feature_matrix.shape)\n",
    "print(\"edge size= \",edge_index.shape)\n",
    "print('y = ',y.shape)\n",
    "gnnInputData = Data(x=feature_matrix,edge_index=edge_index,y=y)\n",
    "\n"
   ]
  },
  {
   "cell_type": "code",
   "execution_count": 13,
   "metadata": {},
   "outputs": [
    {
     "name": "stdout",
     "output_type": "stream",
     "text": [
      "tensor([[   0,    0,    0,  ..., 2137, 2138, 2138],\n",
      "        [  40,   55,   70,  ..., 2151, 2145, 2152]])\n"
     ]
    }
   ],
   "source": [
    "print(edge_index)"
   ]
  },
  {
   "cell_type": "code",
   "execution_count": 14,
   "metadata": {},
   "outputs": [
    {
     "name": "stdout",
     "output_type": "stream",
     "text": [
      "True\n"
     ]
    }
   ],
   "source": [
    "#input為有向圖，過去->未來\n",
    "print(gnnInputData.is_directed())"
   ]
  },
  {
   "cell_type": "code",
   "execution_count": 15,
   "metadata": {},
   "outputs": [
    {
     "name": "stdout",
     "output_type": "stream",
     "text": [
      "找到日期 '2013-01-18 00:00:00 ~ 2013-01-30 00:00:00'，index= 495\n",
      "找到日期 '2017-05-12 00:00:00 ~ 2017-05-23 00:00:00'，index= 1581\n",
      "找到日期 '2018-03-16 00:00:00 ~ 2018-03-27 00:00:00'，index= 1793\n",
      "找到日期 '2019-08-20 00:00:00 ~ 2019-08-29 00:00:00'，index= 2152\n"
     ]
    }
   ],
   "source": [
    "train_eval_test_index = []\n",
    "for target_value in ['~ 2013-01-30','~ 2017-05-23','~ 2018-03-27','~ 2019-08-29']:\n",
    "    for index, item in enumerate(returns.keys()):\n",
    "        if target_value in item:\n",
    "            train_eval_test_index.append(index)\n",
    "            print(f\"找到日期 '{item}'，index= {index}\")\n",
    "            break"
   ]
  },
  {
   "cell_type": "code",
   "execution_count": 16,
   "metadata": {},
   "outputs": [],
   "source": [
    "train_idx = torch.tensor(np.arange(train_eval_test_index[0],train_eval_test_index[1]+1),dtype=torch.long)\n",
    "#evaluate input節點\n",
    "eval_idx = torch.tensor(np.arange(train_eval_test_index[1]+1,train_eval_test_index[2]+1),dtype=torch.long)\n",
    "#test input\n",
    "test_idx = torch.tensor(np.arange(train_eval_test_index[2]+1,len(feature_matrix)),dtype=torch.long)"
   ]
  },
  {
   "cell_type": "code",
   "execution_count": 17,
   "metadata": {},
   "outputs": [
    {
     "name": "stdout",
     "output_type": "stream",
     "text": [
      "上漲(0)的数量： 534\n",
      "持有(1)的数量： 1202\n",
      "下跌(2)的数量： 417\n",
      "weight:  [4.031835205917007, 1.7911813643777774, 5.1630695442406935]\n"
     ]
    }
   ],
   "source": [
    "count_0 = np.count_nonzero(y == 0)\n",
    "count_1 = np.count_nonzero(y == 1)\n",
    "count_2 = np.count_nonzero(y == 2)\n",
    "\n",
    "print(\"上漲(0)的数量：\", count_0)\n",
    "print(\"持有(1)的数量：\", count_1)\n",
    "print(\"下跌(2)的数量：\", count_2)\n",
    "\n",
    "weight = [len(y) / (count_0 + 1e-8), len(y) / (count_1 + 1e-8), len(y) / (count_2 + 1e-8)]\n",
    "print(\"weight: \",weight)"
   ]
  },
  {
   "cell_type": "code",
   "execution_count": 18,
   "metadata": {},
   "outputs": [
    {
     "name": "stdout",
     "output_type": "stream",
     "text": [
      "[tensor(18.), tensor(16.), tensor(13.), tensor(11.), tensor(14.), tensor(16.), tensor(18.), tensor(18.), tensor(21.), tensor(15.), tensor(20.), tensor(25.), tensor(24.), tensor(19.), tensor(17.), tensor(15.), tensor(14.), tensor(16.), tensor(17.), tensor(12.), tensor(15.), tensor(18.), tensor(19.), tensor(18.), tensor(12.), tensor(17.), tensor(14.), tensor(15.), tensor(20.), tensor(22.), tensor(15.), tensor(15.), tensor(15.), tensor(20.), tensor(13.), tensor(21.), tensor(16.), tensor(18.), tensor(19.), tensor(17.), tensor(18.), tensor(21.), tensor(21.), tensor(27.), tensor(26.), tensor(23.), tensor(23.), tensor(19.), tensor(19.), tensor(23.), tensor(13.), tensor(22.), tensor(22.), tensor(24.), tensor(24.), tensor(19.), tensor(17.), tensor(17.), tensor(20.), tensor(21.), tensor(23.), tensor(20.), tensor(15.), tensor(11.), tensor(13.), tensor(11.), tensor(17.), tensor(19.), tensor(19.), tensor(21.), tensor(10.), tensor(17.), tensor(12.), tensor(16.), tensor(12.), tensor(12.), tensor(14.), tensor(13.), tensor(16.), tensor(27.), tensor(18.), tensor(17.), tensor(14.), tensor(14.), tensor(16.), tensor(24.), tensor(23.), tensor(14.), tensor(14.), tensor(11.), tensor(17.), tensor(20.), tensor(19.), tensor(16.), tensor(19.), tensor(17.), tensor(16.), tensor(18.), tensor(21.), tensor(20.), tensor(15.), tensor(20.), tensor(18.), tensor(16.), tensor(18.), tensor(17.), tensor(16.), tensor(18.), tensor(13.), tensor(17.), tensor(18.), tensor(16.), tensor(11.), tensor(16.), tensor(19.), tensor(18.), tensor(26.), tensor(26.), tensor(23.), tensor(21.), tensor(17.), tensor(19.), tensor(18.), tensor(20.), tensor(14.), tensor(17.), tensor(13.), tensor(13.), tensor(21.), tensor(21.), tensor(24.), tensor(25.), tensor(27.), tensor(26.), tensor(17.), tensor(15.), tensor(15.), tensor(23.), tensor(22.), tensor(10.), tensor(16.), tensor(15.), tensor(14.), tensor(10.), tensor(20.), tensor(21.), tensor(24.), tensor(17.), tensor(15.), tensor(17.), tensor(15.), tensor(18.), tensor(21.), tensor(15.), tensor(8.), tensor(11.), tensor(19.), tensor(21.), tensor(19.), tensor(14.), tensor(7.), tensor(10.), tensor(16.), tensor(22.), tensor(15.), tensor(20.), tensor(19.), tensor(15.), tensor(13.), tensor(15.), tensor(15.), tensor(17.), tensor(18.), tensor(19.), tensor(16.), tensor(22.), tensor(17.), tensor(15.), tensor(26.), tensor(20.), tensor(21.), tensor(28.), tensor(23.), tensor(19.), tensor(21.), tensor(21.), tensor(23.), tensor(16.), tensor(16.), tensor(16.), tensor(18.), tensor(16.), tensor(13.), tensor(8.), tensor(14.), tensor(13.), tensor(15.), tensor(18.), tensor(22.), tensor(20.), tensor(22.), tensor(23.), tensor(18.), tensor(21.), tensor(16.), tensor(22.), tensor(20.), tensor(18.), tensor(18.), tensor(20.), tensor(23.), tensor(20.), tensor(18.), tensor(21.), tensor(19.), tensor(15.), tensor(26.), tensor(24.), tensor(27.), tensor(23.), tensor(26.), tensor(24.), tensor(24.), tensor(16.), tensor(17.), tensor(13.), tensor(20.), tensor(20.), tensor(22.), tensor(19.), tensor(24.), tensor(9.), tensor(9.), tensor(15.), tensor(18.), tensor(17.), tensor(14.), tensor(18.), tensor(21.), tensor(18.), tensor(20.), tensor(17.), tensor(17.), tensor(17.), tensor(21.), tensor(22.), tensor(24.), tensor(19.), tensor(22.), tensor(20.), tensor(15.), tensor(14.), tensor(18.), tensor(14.), tensor(16.), tensor(16.), tensor(18.), tensor(12.), tensor(18.), tensor(17.), tensor(18.), tensor(14.), tensor(12.), tensor(9.), tensor(16.), tensor(19.), tensor(23.), tensor(20.), tensor(23.), tensor(21.), tensor(23.), tensor(21.), tensor(16.), tensor(23.), tensor(19.), tensor(19.), tensor(21.), tensor(15.), tensor(25.), tensor(25.), tensor(24.), tensor(28.), tensor(19.), tensor(20.), tensor(17.), tensor(21.), tensor(16.), tensor(17.), tensor(14.), tensor(18.), tensor(19.), tensor(14.), tensor(22.), tensor(19.), tensor(15.), tensor(15.), tensor(16.), tensor(22.), tensor(18.), tensor(18.), tensor(18.), tensor(13.), tensor(10.), tensor(11.), tensor(11.), tensor(10.), tensor(15.), tensor(12.), tensor(18.), tensor(11.), tensor(13.), tensor(24.), tensor(21.), tensor(21.), tensor(15.), tensor(17.), tensor(19.), tensor(18.), tensor(27.), tensor(29.), tensor(20.), tensor(16.), tensor(22.), tensor(18.), tensor(19.), tensor(18.), tensor(21.), tensor(21.), tensor(17.), tensor(19.), tensor(16.), tensor(18.), tensor(23.), tensor(29.), tensor(21.), tensor(17.), tensor(13.), tensor(15.), tensor(21.), tensor(15.), tensor(15.), tensor(21.), tensor(20.), tensor(27.), tensor(25.), tensor(24.), tensor(21.), tensor(19.), tensor(18.), tensor(17.), tensor(19.), tensor(19.), tensor(21.), tensor(27.), tensor(23.), tensor(21.), tensor(21.), tensor(20.), tensor(22.), tensor(13.), tensor(17.), tensor(22.), tensor(17.), tensor(21.), tensor(19.), tensor(19.), tensor(18.), tensor(18.), tensor(19.), tensor(16.), tensor(20.), tensor(24.), tensor(18.), tensor(25.), tensor(24.), tensor(22.), tensor(23.), tensor(22.), tensor(20.), tensor(17.), tensor(14.), tensor(12.), tensor(17.), tensor(17.), tensor(12.), tensor(19.), tensor(20.), tensor(20.), tensor(24.), tensor(25.), tensor(19.), tensor(18.), tensor(19.), tensor(19.), tensor(21.), tensor(15.), tensor(19.), tensor(24.), tensor(18.), tensor(20.), tensor(22.), tensor(21.), tensor(21.), tensor(14.), tensor(18.), tensor(17.), tensor(18.), tensor(21.), tensor(16.), tensor(17.), tensor(16.), tensor(17.), tensor(18.), tensor(20.), tensor(22.), tensor(13.), tensor(21.), tensor(21.), tensor(23.), tensor(17.), tensor(13.), tensor(18.), tensor(18.), tensor(16.), tensor(12.), tensor(16.), tensor(18.), tensor(24.), tensor(21.), tensor(15.), tensor(14.), tensor(16.), tensor(12.), tensor(10.), tensor(12.), tensor(10.), tensor(12.), tensor(10.), tensor(11.), tensor(14.), tensor(14.), tensor(20.), tensor(22.), tensor(16.), tensor(23.), tensor(17.), tensor(13.), tensor(16.), tensor(15.), tensor(19.), tensor(24.), tensor(24.), tensor(23.), tensor(21.), tensor(15.), tensor(11.), tensor(12.), tensor(8.), tensor(16.), tensor(12.), tensor(17.), tensor(17.), tensor(21.), tensor(25.), tensor(31.), tensor(21.), tensor(20.), tensor(25.), tensor(24.), tensor(15.), tensor(18.), tensor(25.), tensor(19.), tensor(18.), tensor(13.), tensor(15.), tensor(13.), tensor(14.), tensor(13.), tensor(23.), tensor(20.), tensor(15.), tensor(24.), tensor(21.), tensor(28.), tensor(24.), tensor(22.), tensor(15.), tensor(16.), tensor(11.), tensor(12.), tensor(15.), tensor(9.), tensor(17.), tensor(9.), tensor(19.), tensor(17.), tensor(14.), tensor(17.), tensor(16.), tensor(22.), tensor(20.), tensor(15.), tensor(22.), tensor(20.), tensor(19.), tensor(16.), tensor(17.), tensor(21.), tensor(26.), tensor(26.), tensor(25.), tensor(21.), tensor(21.), tensor(19.), tensor(22.), tensor(18.), tensor(21.), tensor(17.), tensor(18.), tensor(20.), tensor(21.), tensor(19.), tensor(22.), tensor(24.), tensor(20.), tensor(17.), tensor(19.), tensor(18.), tensor(17.), tensor(22.), tensor(18.), tensor(14.), tensor(17.), tensor(14.), tensor(20.), tensor(14.), tensor(21.), tensor(19.), tensor(26.), tensor(22.), tensor(21.), tensor(27.), tensor(17.), tensor(14.), tensor(13.), tensor(12.), tensor(11.), tensor(10.), tensor(11.), tensor(14.), tensor(14.), tensor(11.), tensor(14.), tensor(18.), tensor(11.), tensor(10.), tensor(25.), tensor(24.), tensor(23.), tensor(22.), tensor(25.), tensor(25.), tensor(23.), tensor(24.), tensor(27.), tensor(27.), tensor(27.), tensor(24.), tensor(18.), tensor(15.), tensor(11.), tensor(12.), tensor(14.), tensor(16.), tensor(14.), tensor(15.), tensor(14.), tensor(17.), tensor(19.), tensor(18.), tensor(20.), tensor(21.), tensor(28.), tensor(28.), tensor(22.), tensor(20.), tensor(24.), tensor(23.), tensor(22.), tensor(18.), tensor(14.), tensor(11.), tensor(14.), tensor(13.), tensor(18.), tensor(17.), tensor(17.), tensor(12.), tensor(16.), tensor(17.), tensor(15.), tensor(12.), tensor(17.), tensor(20.), tensor(17.), tensor(21.), tensor(23.), tensor(24.), tensor(18.), tensor(16.), tensor(16.), tensor(12.), tensor(13.), tensor(21.), tensor(15.), tensor(12.), tensor(15.), tensor(19.), tensor(18.), tensor(16.), tensor(16.), tensor(23.), tensor(24.), tensor(22.), tensor(27.), tensor(14.), tensor(21.), tensor(14.), tensor(15.), tensor(14.), tensor(18.), tensor(26.), tensor(19.), tensor(26.), tensor(15.), tensor(24.), tensor(15.), tensor(19.), tensor(15.), tensor(14.), tensor(11.), tensor(15.), tensor(16.), tensor(26.), tensor(26.), tensor(20.), tensor(16.), tensor(16.), tensor(14.), tensor(14.), tensor(15.), tensor(19.), tensor(16.), tensor(17.), tensor(20.), tensor(19.), tensor(22.), tensor(24.), tensor(26.), tensor(26.), tensor(17.), tensor(9.), tensor(15.), tensor(21.), tensor(18.), tensor(27.), tensor(23.), tensor(19.), tensor(16.), tensor(17.), tensor(20.), tensor(19.), tensor(20.), tensor(19.), tensor(12.), tensor(14.), tensor(13.), tensor(11.), tensor(14.), tensor(17.), tensor(26.), tensor(24.), tensor(28.), tensor(24.), tensor(22.), tensor(21.), tensor(18.), tensor(16.), tensor(19.), tensor(19.), tensor(19.), tensor(19.), tensor(22.), tensor(19.), tensor(25.), tensor(23.), tensor(24.), tensor(25.), tensor(21.), tensor(31.), tensor(28.), tensor(19.), tensor(15.), tensor(12.), tensor(21.), tensor(19.), tensor(19.), tensor(20.), tensor(17.), tensor(18.), tensor(23.), tensor(23.), tensor(25.), tensor(30.), tensor(23.), tensor(19.), tensor(18.), tensor(27.), tensor(25.), tensor(20.), tensor(25.), tensor(22.), tensor(24.), tensor(26.), tensor(18.), tensor(15.), tensor(16.), tensor(12.), tensor(13.), tensor(14.), tensor(15.), tensor(14.), tensor(17.), tensor(17.), tensor(21.), tensor(23.), tensor(23.), tensor(16.), tensor(20.), tensor(19.), tensor(11.), tensor(14.), tensor(13.), tensor(12.), tensor(11.), tensor(15.), tensor(19.), tensor(19.), tensor(18.), tensor(17.), tensor(15.), tensor(20.), tensor(19.), tensor(20.), tensor(18.), tensor(21.), tensor(19.), tensor(19.), tensor(17.), tensor(25.), tensor(17.), tensor(13.), tensor(16.), tensor(12.), tensor(15.), tensor(14.), tensor(12.), tensor(20.), tensor(19.), tensor(20.), tensor(22.), tensor(24.), tensor(20.), tensor(21.), tensor(22.), tensor(22.), tensor(19.), tensor(21.), tensor(25.), tensor(25.), tensor(29.), tensor(27.), tensor(20.), tensor(13.), tensor(15.), tensor(13.), tensor(15.), tensor(17.), tensor(15.), tensor(17.), tensor(20.), tensor(28.), tensor(22.), tensor(16.), tensor(12.), tensor(11.), tensor(14.), tensor(16.), tensor(18.), tensor(29.), tensor(24.), tensor(27.), tensor(23.), tensor(19.), tensor(21.), tensor(15.), tensor(15.), tensor(20.), tensor(16.), tensor(18.), tensor(18.), tensor(20.), tensor(16.), tensor(22.), tensor(16.), tensor(13.), tensor(5.), tensor(5.), tensor(27.), tensor(22.), tensor(21.), tensor(16.), tensor(19.), tensor(14.), tensor(13.), tensor(13.), tensor(14.), tensor(17.), tensor(17.), tensor(19.), tensor(20.), tensor(16.), tensor(20.), tensor(22.), tensor(18.), tensor(8.), tensor(12.), tensor(13.), tensor(16.), tensor(22.), tensor(20.), tensor(25.), tensor(19.), tensor(24.), tensor(17.), tensor(15.), tensor(24.), tensor(16.), tensor(13.), tensor(8.), tensor(8.), tensor(13.), tensor(10.), tensor(9.), tensor(14.), tensor(18.), tensor(16.), tensor(18.), tensor(23.), tensor(17.), tensor(15.), tensor(18.), tensor(18.), tensor(17.), tensor(15.), tensor(12.), tensor(12.), tensor(15.), tensor(17.), tensor(19.), tensor(26.), tensor(23.), tensor(20.), tensor(20.), tensor(28.), tensor(19.), tensor(22.), tensor(21.), tensor(23.), tensor(26.), tensor(18.), tensor(16.), tensor(15.), tensor(22.), tensor(18.), tensor(13.), tensor(17.), tensor(19.), tensor(20.), tensor(26.), tensor(28.), tensor(21.), tensor(22.), tensor(24.), tensor(23.), tensor(15.), tensor(14.), tensor(14.), tensor(18.), tensor(24.), tensor(17.), tensor(18.), tensor(17.), tensor(15.), tensor(16.), tensor(22.), tensor(20.), tensor(17.), tensor(20.), tensor(21.), tensor(21.), tensor(26.), tensor(19.), tensor(22.), tensor(22.), tensor(19.), tensor(24.), tensor(12.), tensor(20.), tensor(15.), tensor(12.), tensor(17.), tensor(18.), tensor(20.), tensor(20.), tensor(13.), tensor(18.), tensor(21.), tensor(22.), tensor(23.), tensor(24.), tensor(15.), tensor(21.), tensor(19.), tensor(21.), tensor(18.), tensor(15.), tensor(9.), tensor(17.), tensor(21.), tensor(20.), tensor(23.), tensor(25.), tensor(18.), tensor(10.), tensor(10.), tensor(19.), tensor(13.), tensor(10.), tensor(9.), tensor(20.), tensor(15.), tensor(15.), tensor(17.), tensor(19.), tensor(24.), tensor(19.), tensor(21.), tensor(20.), tensor(20.), tensor(19.), tensor(21.), tensor(21.), tensor(17.), tensor(14.), tensor(19.), tensor(23.), tensor(14.), tensor(14.), tensor(17.), tensor(17.), tensor(10.), tensor(11.), tensor(16.), tensor(17.), tensor(17.), tensor(29.), tensor(30.), tensor(25.), tensor(25.), tensor(21.), tensor(21.), tensor(18.), tensor(19.), tensor(19.), tensor(20.), tensor(21.), tensor(16.), tensor(14.), tensor(19.), tensor(23.), tensor(17.), tensor(16.), tensor(16.), tensor(16.), tensor(25.), tensor(17.), tensor(23.), tensor(18.), tensor(30.), tensor(26.), tensor(26.), tensor(19.), tensor(16.), tensor(16.), tensor(22.), tensor(13.), tensor(12.), tensor(13.), tensor(17.), tensor(13.), tensor(16.), tensor(19.), tensor(18.), tensor(21.), tensor(21.), tensor(17.), tensor(12.), tensor(7.), tensor(10.), tensor(8.), tensor(6.), tensor(13.), tensor(17.), tensor(20.), tensor(21.), tensor(31.), tensor(23.), tensor(19.), tensor(17.), tensor(22.), tensor(26.), tensor(23.), tensor(23.), tensor(14.), tensor(16.), tensor(16.), tensor(16.), tensor(19.), tensor(18.), tensor(25.), tensor(18.), tensor(13.), tensor(16.), tensor(14.), tensor(11.), tensor(13.), tensor(9.), tensor(20.), tensor(23.), tensor(20.), tensor(20.), tensor(22.), tensor(13.), tensor(16.), tensor(20.), tensor(23.), tensor(11.), tensor(24.), tensor(21.), tensor(20.), tensor(21.), tensor(11.), tensor(16.), tensor(10.), tensor(12.), tensor(18.), tensor(22.), tensor(14.), tensor(21.), tensor(18.), tensor(27.), tensor(17.), tensor(19.), tensor(18.), tensor(15.), tensor(19.), tensor(21.), tensor(26.), tensor(18.), tensor(21.), tensor(16.), tensor(12.), tensor(11.), tensor(13.), tensor(12.), tensor(12.), tensor(11.), tensor(13.), tensor(16.), tensor(15.), tensor(22.), tensor(17.), tensor(17.), tensor(15.), tensor(17.), tensor(24.), tensor(26.), tensor(14.), tensor(21.), tensor(20.), tensor(22.), tensor(19.), tensor(25.), tensor(19.), tensor(22.), tensor(18.), tensor(23.), tensor(23.), tensor(21.), tensor(15.), tensor(25.), tensor(19.), tensor(23.), tensor(21.), tensor(25.), tensor(24.), tensor(17.), tensor(18.), tensor(19.), tensor(16.), tensor(12.), tensor(21.), tensor(20.), tensor(18.), tensor(17.), tensor(27.), tensor(28.), tensor(28.), tensor(27.), tensor(29.), tensor(23.), tensor(27.), tensor(12.), tensor(11.), tensor(16.), tensor(20.), tensor(15.), tensor(17.), tensor(18.), tensor(13.), tensor(15.), tensor(12.), tensor(16.), tensor(11.), tensor(17.), tensor(16.), tensor(16.), tensor(15.), tensor(14.), tensor(11.), tensor(18.), tensor(22.), tensor(22.), tensor(18.), tensor(11.), tensor(9.), tensor(15.), tensor(15.), tensor(16.), tensor(13.), tensor(20.), tensor(15.), tensor(19.), tensor(24.), tensor(27.), tensor(23.), tensor(25.), tensor(17.), tensor(19.), tensor(19.), tensor(25.), tensor(14.), tensor(20.), tensor(17.), tensor(14.), tensor(9.), tensor(14.), tensor(12.), tensor(7.), tensor(23.), tensor(19.), tensor(20.), tensor(17.), tensor(25.), tensor(25.), tensor(13.), tensor(12.), tensor(14.), tensor(10.), tensor(14.), tensor(21.), tensor(22.), tensor(28.), tensor(29.), tensor(18.), tensor(22.), tensor(19.), tensor(22.), tensor(20.), tensor(17.), tensor(20.), tensor(15.), tensor(14.), tensor(22.), tensor(21.), tensor(20.), tensor(16.), tensor(19.), tensor(27.), tensor(21.), tensor(19.), tensor(16.), tensor(18.), tensor(24.), tensor(30.), tensor(17.), tensor(26.), tensor(13.), tensor(21.), tensor(15.), tensor(19.), tensor(17.), tensor(26.), tensor(14.), tensor(13.), tensor(17.), tensor(17.), tensor(13.), tensor(15.), tensor(10.), tensor(16.), tensor(16.), tensor(14.), tensor(18.), tensor(17.), tensor(20.), tensor(17.), tensor(24.), tensor(25.), tensor(16.), tensor(19.), tensor(15.), tensor(14.), tensor(17.), tensor(8.), tensor(15.), tensor(13.), tensor(19.), tensor(14.), tensor(17.), tensor(18.), tensor(15.), tensor(21.), tensor(17.), tensor(16.), tensor(20.), tensor(24.), tensor(20.), tensor(21.), tensor(18.), tensor(16.), tensor(11.), tensor(17.), tensor(18.), tensor(18.), tensor(18.), tensor(16.), tensor(15.), tensor(16.), tensor(11.), tensor(15.), tensor(15.), tensor(13.), tensor(10.), tensor(12.), tensor(12.), tensor(14.), tensor(12.), tensor(12.), tensor(13.), tensor(17.), tensor(14.), tensor(12.), tensor(14.), tensor(13.), tensor(22.), tensor(22.), tensor(22.), tensor(20.), tensor(20.), tensor(19.), tensor(14.), tensor(11.), tensor(14.), tensor(13.), tensor(20.), tensor(20.), tensor(18.), tensor(13.), tensor(14.), tensor(14.), tensor(18.), tensor(16.), tensor(16.), tensor(11.), tensor(11.), tensor(17.), tensor(18.), tensor(19.), tensor(25.), tensor(25.), tensor(25.), tensor(17.), tensor(18.), tensor(16.), tensor(13.), tensor(17.), tensor(17.), tensor(14.), tensor(15.), tensor(10.), tensor(8.), tensor(15.), tensor(19.), tensor(17.), tensor(19.), tensor(17.), tensor(15.), tensor(19.), tensor(17.), tensor(19.), tensor(20.), tensor(21.), tensor(28.), tensor(26.), tensor(24.), tensor(28.), tensor(26.), tensor(24.), tensor(21.), tensor(21.), tensor(26.), tensor(17.), tensor(19.), tensor(21.), tensor(18.), tensor(20.), tensor(25.), tensor(22.), tensor(26.), tensor(24.), tensor(21.), tensor(26.), tensor(22.), tensor(16.), tensor(22.), tensor(24.), tensor(23.), tensor(17.), tensor(21.), tensor(22.), tensor(24.), tensor(20.), tensor(20.), tensor(17.), tensor(22.), tensor(14.), tensor(15.), tensor(12.), tensor(17.), tensor(15.), tensor(17.), tensor(20.), tensor(25.), tensor(20.), tensor(25.), tensor(24.), tensor(12.), tensor(8.), tensor(11.), tensor(13.), tensor(11.), tensor(12.), tensor(17.), tensor(17.), tensor(16.), tensor(12.), tensor(15.), tensor(25.), tensor(19.), tensor(9.), tensor(18.), tensor(12.), tensor(20.), tensor(22.), tensor(19.), tensor(17.), tensor(14.), tensor(24.), tensor(22.), tensor(21.), tensor(16.), tensor(11.), tensor(14.), tensor(14.), tensor(18.), tensor(20.), tensor(18.), tensor(19.), tensor(23.), tensor(19.), tensor(9.), tensor(10.), tensor(14.), tensor(16.), tensor(13.), tensor(10.), tensor(17.), tensor(13.), tensor(9.), tensor(10.), tensor(15.), tensor(17.), tensor(19.), tensor(17.), tensor(19.), tensor(15.), tensor(15.), tensor(16.), tensor(20.), tensor(12.), tensor(11.), tensor(9.), tensor(17.), tensor(11.), tensor(14.), tensor(14.), tensor(15.), tensor(15.), tensor(18.), tensor(19.), tensor(15.), tensor(19.), tensor(16.), tensor(22.), tensor(20.), tensor(21.), tensor(20.), tensor(18.), tensor(21.), tensor(17.), tensor(16.), tensor(12.), tensor(10.), tensor(8.), tensor(18.), tensor(19.), tensor(19.), tensor(17.), tensor(16.), tensor(17.), tensor(14.), tensor(14.), tensor(17.), tensor(14.), tensor(17.), tensor(14.), tensor(14.), tensor(13.), tensor(13.), tensor(11.), tensor(16.), tensor(14.), tensor(19.), tensor(12.), tensor(12.), tensor(14.), tensor(17.), tensor(14.), tensor(15.), tensor(13.), tensor(15.), tensor(12.), tensor(5.), tensor(3.), tensor(23.), tensor(20.), tensor(17.), tensor(23.), tensor(28.), tensor(22.), tensor(21.), tensor(26.), tensor(25.), tensor(27.), tensor(24.), tensor(25.), tensor(24.), tensor(21.), tensor(20.), tensor(21.), tensor(23.), tensor(20.), tensor(18.), tensor(16.), tensor(13.), tensor(17.), tensor(14.), tensor(14.), tensor(18.), tensor(17.), tensor(17.), tensor(18.), tensor(20.), tensor(21.), tensor(22.), tensor(20.), tensor(14.), tensor(15.), tensor(18.), tensor(15.), tensor(23.), tensor(22.), tensor(23.), tensor(18.), tensor(18.), tensor(20.), tensor(20.), tensor(24.), tensor(20.), tensor(17.), tensor(20.), tensor(20.), tensor(17.), tensor(13.), tensor(23.), tensor(21.), tensor(20.), tensor(14.), tensor(23.), tensor(18.), tensor(16.), tensor(20.), tensor(22.), tensor(20.), tensor(18.), tensor(17.), tensor(17.), tensor(14.), tensor(19.), tensor(18.), tensor(19.), tensor(14.), tensor(10.), tensor(17.), tensor(16.), tensor(22.), tensor(20.), tensor(23.), tensor(15.), tensor(14.), tensor(19.), tensor(20.), tensor(22.), tensor(26.), tensor(19.), tensor(20.), tensor(15.), tensor(14.), tensor(17.), tensor(18.), tensor(26.), tensor(20.), tensor(24.), tensor(19.), tensor(20.), tensor(17.), tensor(17.), tensor(14.), tensor(15.), tensor(17.), tensor(12.), tensor(19.), tensor(19.), tensor(21.), tensor(22.), tensor(27.), tensor(23.), tensor(18.), tensor(18.), tensor(17.), tensor(18.), tensor(8.), tensor(8.), tensor(21.), tensor(15.), tensor(20.), tensor(23.), tensor(23.), tensor(21.), tensor(26.), tensor(19.), tensor(17.), tensor(20.), tensor(23.), tensor(18.), tensor(17.), tensor(13.), tensor(17.), tensor(18.), tensor(18.), tensor(23.), tensor(21.), tensor(18.), tensor(18.), tensor(21.), tensor(10.), tensor(14.), tensor(17.), tensor(16.), tensor(12.), tensor(10.), tensor(16.), tensor(15.), tensor(28.), tensor(31.), tensor(26.), tensor(23.), tensor(24.), tensor(22.), tensor(20.), tensor(18.), tensor(18.), tensor(18.), tensor(27.), tensor(18.), tensor(13.), tensor(17.), tensor(18.), tensor(16.), tensor(19.), tensor(24.), tensor(21.), tensor(17.), tensor(21.), tensor(17.), tensor(15.), tensor(21.), tensor(20.), tensor(17.), tensor(16.), tensor(16.), tensor(16.), tensor(18.), tensor(22.), tensor(29.)]\n",
      "18.143547\n"
     ]
    }
   ],
   "source": [
    "import torch_geometric\n",
    "from torch_geometric.utils import degree\n",
    "import numpy\n",
    "num_neighbors = [degree for degree in degree(gnnInputData.edge_index[1])]\n",
    "print(num_neighbors[train_eval_test_index[0]:])\n",
    "neighbor_nodes_mean = numpy.mean(num_neighbors[train_eval_test_index[0]:])\n",
    "print(neighbor_nodes_mean)"
   ]
  },
  {
   "cell_type": "code",
   "execution_count": 19,
   "metadata": {},
   "outputs": [],
   "source": [
    "train_loader =  NeighborLoader(gnnInputData, input_nodes=train_idx,\n",
    "                              shuffle=False, num_workers=os.cpu_count() - 2,\n",
    "                              batch_size=32, num_neighbors=[neighbor_nodes_mean]*2)\n",
    "total_loader = NeighborLoader(gnnInputData, input_nodes=None, num_neighbors=[-1],\n",
    "                               shuffle=False,\n",
    "                               num_workers=os.cpu_count() - 2)\n"
   ]
  },
  {
   "cell_type": "code",
   "execution_count": 20,
   "metadata": {},
   "outputs": [],
   "source": [
    "#Graph Sample and Aggregation\n",
    "class SAGE(torch.nn.Module):\n",
    "    def __init__(self, in_channels, hidden_channels, out_channels, n_layers=2):\n",
    "        super(SAGE, self).__init__()\n",
    "        self.n_layers = n_layers\n",
    "        self.layers = torch.nn.ModuleList()\n",
    "        self.layers_bn = torch.nn.ModuleList() #batch normalization\n",
    "\n",
    "        if n_layers == 1:\n",
    "            self.layers.append(SAGEConv(in_channels, out_channels, normalize=False))\n",
    "        elif n_layers == 2:\n",
    "            self.layers.append(SAGEConv(in_channels, hidden_channels, normalize=False))\n",
    "            self.layers_bn.append(torch.nn.BatchNorm1d(hidden_channels))\n",
    "            self.layers.append(SAGEConv(hidden_channels, out_channels, normalize=False))\n",
    "        else:\n",
    "            self.layers.append(SAGEConv(in_channels, hidden_channels, normalize=False))\n",
    "            self.layers_bn.append(torch.nn.BatchNorm1d(hidden_channels))\n",
    "\n",
    "        for _ in range(n_layers - 2):\n",
    "            self.layers.append(SAGEConv(hidden_channels, hidden_channels, normalize=False))\n",
    "            self.layers_bn.append(torch.nn.BatchNorm1d(hidden_channels))\n",
    "\n",
    "            self.layers.append(SAGEConv(hidden_channels, out_channels, normalize=False))\n",
    "\n",
    "        for layer in self.layers:\n",
    "            layer.reset_parameters()\n",
    "\n",
    "    def forward(self, x, edge_index):\n",
    "        if len(self.layers) > 1:\n",
    "            looper = self.layers[:-1]\n",
    "        else:\n",
    "            looper = self.layers\n",
    "        \n",
    "        for i, layer in enumerate(looper):\n",
    "            x = layer(x, edge_index)\n",
    "            try:\n",
    "                x = self.layers_bn[i](x)\n",
    "            except Exception as e:\n",
    "                abs(1)\n",
    "            finally:\n",
    "                x = F.relu(x)\n",
    "                x = F.dropout(x, p=0.5, training=self.training)\n",
    "\n",
    "        if len(self.layers) > 1:\n",
    "            x = self.layers[-1](x, edge_index)\n",
    "        return F.log_softmax(x, dim=-1), torch.var(x)\n",
    "\n",
    "    def inference(self, total_loader, device):\n",
    "        xs = []\n",
    "        var_ = []\n",
    "        for batch in total_loader:\n",
    "            out, var = self.forward(batch.x.to(device), batch.edge_index.to(device))\n",
    "            out = out[:batch.batch_size]\n",
    "            xs.append(out.cpu())\n",
    "            var_.append(var.item())\n",
    "\n",
    "        out_all = torch.cat(xs, dim=0)\n",
    "\n",
    "        return out_all, var_"
   ]
  },
  {
   "cell_type": "code",
   "execution_count": 21,
   "metadata": {},
   "outputs": [],
   "source": [
    "target_dataset = 'ogbn-arxiv'\n",
    "def test(model, device):\n",
    "    evaluator = Evaluator(name=target_dataset)\n",
    "    model.eval()\n",
    "    out, var = model.inference(total_loader, device)\n",
    "    y_true = gnnInputData.y.cpu()\n",
    "    y_pred = out.argmax(dim=-1, keepdim=True)\n",
    "    \n",
    "    train_acc = evaluator.eval({\n",
    "        'y_true': y_true[train_idx],\n",
    "        'y_pred': y_pred[train_idx],\n",
    "    })['acc']\n",
    "    val_acc = evaluator.eval({\n",
    "        'y_true': y_true[eval_idx],\n",
    "        'y_pred': y_pred[eval_idx],\n",
    "    })['acc']\n",
    "    test_acc = evaluator.eval({\n",
    "        'y_true': y_true[test_idx],\n",
    "        'y_pred': y_pred[test_idx],\n",
    "    })['acc']\n",
    "    \n",
    "    return train_acc, val_acc, test_acc, torch.mean(torch.Tensor(var)), y_true, out"
   ]
  },
  {
   "cell_type": "code",
   "execution_count": 22,
   "metadata": {},
   "outputs": [],
   "source": [
    "class FocalLoss(torch.nn.Module):\n",
    "    def __init__(self, gamma=2, alpha=None, reduction='mean'):\n",
    "        super(FocalLoss, self).__init__()\n",
    "        self.gamma = gamma\n",
    "        self.alpha = alpha\n",
    "        self.reduction = reduction\n",
    "\n",
    "    def forward(self, input, target):\n",
    "        ce_loss = F.nll_loss(input, target)\n",
    "        pt = torch.exp(-ce_loss)\n",
    "        focal_loss = (1 - pt) ** self.gamma * ce_loss\n",
    "        self.alpha = self.alpha.to(input.device)\n",
    "        if self.alpha is not None:\n",
    "            focal_loss = self.alpha[target] * focal_loss\n",
    "\n",
    "        if self.reduction == 'mean':\n",
    "            return torch.mean(focal_loss)\n",
    "        elif self.reduction == 'sum':\n",
    "            return torch.sum(focal_loss)\n",
    "        else:\n",
    "            return focal_loss\n",
    "\n",
    "def creterion(lossFunction , weight, out, y_true):\n",
    "    loss = 1\n",
    "    match lossFunction:\n",
    "        case 'CrossEntrophyLoss':\n",
    "            loss = F.nll_loss(out, torch.reshape(y_true, (-1,)))\n",
    "        case 'FocalLoss':\n",
    "            focalLoss = FocalLoss(gamma=2,alpha=torch.tensor(weight),reduction='mean')\n",
    "            loss = focalLoss(out, torch.reshape(y_true, (-1,)))\n",
    "\n",
    "    return loss"
   ]
  },
  {
   "cell_type": "code",
   "execution_count": 23,
   "metadata": {},
   "outputs": [
    {
     "name": "stderr",
     "output_type": "stream",
     "text": [
      "Epoch 01: 100%|██████████| 1087/1087 [00:08<00:00, 134.11it/s]\n"
     ]
    },
    {
     "name": "stdout",
     "output_type": "stream",
     "text": [
      "TrainAcc: 0.5722, ValAcc: 0.6934, TestAcc: 0.5209, trainLoss: 1.1105, evalLoss: 0.7600, testLoss: 1.2584\n",
      "Validation loss decreased (inf --> 1.258411).  Saving model ...\n",
      "[[  2  93   0]\n",
      " [  2 185   1]\n",
      " [  2  74   0]]\n"
     ]
    },
    {
     "name": "stderr",
     "output_type": "stream",
     "text": [
      "Epoch 02: 100%|██████████| 1087/1087 [00:04<00:00, 225.78it/s]\n"
     ]
    },
    {
     "name": "stdout",
     "output_type": "stream",
     "text": [
      "TrainAcc: 0.5814, ValAcc: 0.6981, TestAcc: 0.5320, trainLoss: 1.0154, evalLoss: 0.6408, testLoss: 1.2035\n",
      "Validation loss decreased (1.258411 --> 1.203451).  Saving model ...\n",
      "[[  3  92   0]\n",
      " [  0 188   0]\n",
      " [  1  75   0]]\n"
     ]
    },
    {
     "name": "stderr",
     "output_type": "stream",
     "text": [
      "Epoch 03: 100%|██████████| 1087/1087 [00:03<00:00, 272.51it/s]\n"
     ]
    },
    {
     "name": "stdout",
     "output_type": "stream",
     "text": [
      "TrainAcc: 0.5952, ValAcc: 0.6981, TestAcc: 0.5320, trainLoss: 0.9722, evalLoss: 0.6293, testLoss: 1.1525\n",
      "Validation loss decreased (1.203451 --> 1.152463).  Saving model ...\n",
      "[[  4  91   0]\n",
      " [  1 187   0]\n",
      " [  1  75   0]]\n"
     ]
    },
    {
     "name": "stderr",
     "output_type": "stream",
     "text": [
      "Epoch 04: 100%|██████████| 1087/1087 [00:03<00:00, 281.52it/s]\n"
     ]
    },
    {
     "name": "stdout",
     "output_type": "stream",
     "text": [
      "TrainAcc: 0.5989, ValAcc: 0.7075, TestAcc: 0.5292, trainLoss: 0.9354, evalLoss: 0.6118, testLoss: 1.1211\n",
      "Validation loss decreased (1.152463 --> 1.121065).  Saving model ...\n",
      "[[  3  92   0]\n",
      " [  2 186   0]\n",
      " [  0  75   1]]\n"
     ]
    },
    {
     "name": "stderr",
     "output_type": "stream",
     "text": [
      "Epoch 05: 100%|██████████| 1087/1087 [00:03<00:00, 277.45it/s]\n"
     ]
    },
    {
     "name": "stdout",
     "output_type": "stream",
     "text": [
      "TrainAcc: 0.6081, ValAcc: 0.6934, TestAcc: 0.5404, trainLoss: 0.9080, evalLoss: 0.6040, testLoss: 1.0954\n",
      "Validation loss decreased (1.121065 --> 1.095421).  Saving model ...\n",
      "[[  6  89   0]\n",
      " [  2 186   0]\n",
      " [  1  73   2]]\n"
     ]
    },
    {
     "name": "stderr",
     "output_type": "stream",
     "text": [
      "Epoch 06: 100%|██████████| 1087/1087 [00:03<00:00, 285.31it/s]\n"
     ]
    },
    {
     "name": "stdout",
     "output_type": "stream",
     "text": [
      "TrainAcc: 0.6118, ValAcc: 0.6840, TestAcc: 0.5404, trainLoss: 0.8872, evalLoss: 0.6039, testLoss: 1.0742\n",
      "Validation loss decreased (1.095421 --> 1.074162).  Saving model ...\n",
      "[[  9  86   0]\n",
      " [  5 182   1]\n",
      " [  3  70   3]]\n"
     ]
    },
    {
     "name": "stderr",
     "output_type": "stream",
     "text": [
      "Epoch 07: 100%|██████████| 1087/1087 [00:04<00:00, 271.18it/s]\n"
     ]
    },
    {
     "name": "stdout",
     "output_type": "stream",
     "text": [
      "TrainAcc: 0.6256, ValAcc: 0.6981, TestAcc: 0.5460, trainLoss: 0.8684, evalLoss: 0.5974, testLoss: 1.0632\n",
      "Validation loss decreased (1.074162 --> 1.063192).  Saving model ...\n",
      "[[ 11  84   0]\n",
      " [  5 182   1]\n",
      " [  2  71   3]]\n"
     ]
    },
    {
     "name": "stderr",
     "output_type": "stream",
     "text": [
      "Epoch 08: 100%|██████████| 1087/1087 [00:03<00:00, 288.92it/s]\n"
     ]
    },
    {
     "name": "stdout",
     "output_type": "stream",
     "text": [
      "TrainAcc: 0.6385, ValAcc: 0.6981, TestAcc: 0.5460, trainLoss: 0.8494, evalLoss: 0.5886, testLoss: 1.0492\n",
      "Validation loss decreased (1.063192 --> 1.049207).  Saving model ...\n",
      "[[ 12  83   0]\n",
      " [  7 180   1]\n",
      " [  1  71   4]]\n"
     ]
    },
    {
     "name": "stderr",
     "output_type": "stream",
     "text": [
      "Epoch 09: 100%|██████████| 1087/1087 [00:03<00:00, 291.82it/s]\n"
     ]
    },
    {
     "name": "stdout",
     "output_type": "stream",
     "text": [
      "TrainAcc: 0.6375, ValAcc: 0.7028, TestAcc: 0.5543, trainLoss: 0.8346, evalLoss: 0.5879, testLoss: 1.0394\n",
      "Validation loss decreased (1.049207 --> 1.039376).  Saving model ...\n",
      "[[ 15  80   0]\n",
      " [  7 180   1]\n",
      " [  1  71   4]]\n"
     ]
    },
    {
     "name": "stderr",
     "output_type": "stream",
     "text": [
      "Epoch 10: 100%|██████████| 1087/1087 [00:03<00:00, 298.94it/s]\n"
     ]
    },
    {
     "name": "stdout",
     "output_type": "stream",
     "text": [
      "TrainAcc: 0.6412, ValAcc: 0.7028, TestAcc: 0.5571, trainLoss: 0.8221, evalLoss: 0.5897, testLoss: 1.0303\n",
      "Validation loss decreased (1.039376 --> 1.030260).  Saving model ...\n",
      "[[ 16  79   0]\n",
      " [  7 180   1]\n",
      " [  1  71   4]]\n"
     ]
    },
    {
     "name": "stderr",
     "output_type": "stream",
     "text": [
      "Epoch 11: 100%|██████████| 1087/1087 [00:03<00:00, 291.73it/s]\n"
     ]
    },
    {
     "name": "stdout",
     "output_type": "stream",
     "text": [
      "TrainAcc: 0.6366, ValAcc: 0.7028, TestAcc: 0.5599, trainLoss: 0.8179, evalLoss: 0.5975, testLoss: 1.0233\n",
      "Validation loss decreased (1.030260 --> 1.023257).  Saving model ...\n",
      "[[ 21  74   0]\n",
      " [ 11 176   1]\n",
      " [  3  69   4]]\n"
     ]
    },
    {
     "name": "stderr",
     "output_type": "stream",
     "text": [
      "Epoch 12: 100%|██████████| 1087/1087 [00:03<00:00, 284.92it/s]\n"
     ]
    },
    {
     "name": "stdout",
     "output_type": "stream",
     "text": [
      "TrainAcc: 0.6403, ValAcc: 0.7028, TestAcc: 0.5599, trainLoss: 0.8072, evalLoss: 0.5973, testLoss: 1.0215\n",
      "Validation loss decreased (1.023257 --> 1.021459).  Saving model ...\n",
      "[[ 22  73   0]\n",
      " [ 12 175   1]\n",
      " [  3  69   4]]\n"
     ]
    },
    {
     "name": "stderr",
     "output_type": "stream",
     "text": [
      "Epoch 13: 100%|██████████| 1087/1087 [00:03<00:00, 289.75it/s]\n"
     ]
    },
    {
     "name": "stdout",
     "output_type": "stream",
     "text": [
      "TrainAcc: 0.6403, ValAcc: 0.7123, TestAcc: 0.5655, trainLoss: 0.8018, evalLoss: 0.6019, testLoss: 1.0207\n",
      "Validation loss decreased (1.021459 --> 1.020689).  Saving model ...\n",
      "[[ 24  71   0]\n",
      " [ 12 175   1]\n",
      " [  3  69   4]]\n"
     ]
    },
    {
     "name": "stderr",
     "output_type": "stream",
     "text": [
      "Epoch 14: 100%|██████████| 1087/1087 [00:03<00:00, 296.34it/s]\n"
     ]
    },
    {
     "name": "stdout",
     "output_type": "stream",
     "text": [
      "TrainAcc: 0.6403, ValAcc: 0.7123, TestAcc: 0.5655, trainLoss: 0.8016, evalLoss: 0.6012, testLoss: 1.0211\n",
      "EarlyStopping counter: 1 out of 15\n"
     ]
    },
    {
     "name": "stderr",
     "output_type": "stream",
     "text": [
      "Epoch 15: 100%|██████████| 1087/1087 [00:04<00:00, 264.81it/s]\n"
     ]
    },
    {
     "name": "stdout",
     "output_type": "stream",
     "text": [
      "TrainAcc: 0.6412, ValAcc: 0.7123, TestAcc: 0.5682, trainLoss: 0.8002, evalLoss: 0.5995, testLoss: 1.0213\n",
      "EarlyStopping counter: 2 out of 15\n"
     ]
    },
    {
     "name": "stderr",
     "output_type": "stream",
     "text": [
      "Epoch 16: 100%|██████████| 1087/1087 [00:04<00:00, 267.51it/s]\n"
     ]
    },
    {
     "name": "stdout",
     "output_type": "stream",
     "text": [
      "TrainAcc: 0.6412, ValAcc: 0.7123, TestAcc: 0.5682, trainLoss: 0.7982, evalLoss: 0.5980, testLoss: 1.0205\n",
      "Validation loss decreased (1.020689 --> 1.020493).  Saving model ...\n",
      "[[ 24  71   0]\n",
      " [ 12 176   0]\n",
      " [  3  69   4]]\n"
     ]
    },
    {
     "name": "stderr",
     "output_type": "stream",
     "text": [
      "Epoch 17: 100%|██████████| 1087/1087 [00:03<00:00, 283.06it/s]\n"
     ]
    },
    {
     "name": "stdout",
     "output_type": "stream",
     "text": [
      "TrainAcc: 0.6412, ValAcc: 0.7123, TestAcc: 0.5682, trainLoss: 0.7979, evalLoss: 0.5983, testLoss: 1.0205\n",
      "Validation loss decreased (1.020493 --> 1.020492).  Saving model ...\n",
      "[[ 24  71   0]\n",
      " [ 12 176   0]\n",
      " [  3  69   4]]\n"
     ]
    },
    {
     "name": "stderr",
     "output_type": "stream",
     "text": [
      "Epoch 18: 100%|██████████| 1087/1087 [00:04<00:00, 261.43it/s]\n"
     ]
    },
    {
     "name": "stdout",
     "output_type": "stream",
     "text": [
      "TrainAcc: 0.6412, ValAcc: 0.7123, TestAcc: 0.5682, trainLoss: 0.7980, evalLoss: 0.5984, testLoss: 1.0205\n",
      "Validation loss decreased (1.020492 --> 1.020460).  Saving model ...\n",
      "[[ 24  71   0]\n",
      " [ 12 176   0]\n",
      " [  3  69   4]]\n"
     ]
    },
    {
     "name": "stderr",
     "output_type": "stream",
     "text": [
      "Epoch 19: 100%|██████████| 1087/1087 [00:03<00:00, 281.48it/s]\n"
     ]
    },
    {
     "name": "stdout",
     "output_type": "stream",
     "text": [
      "TrainAcc: 0.6421, ValAcc: 0.7123, TestAcc: 0.5682, trainLoss: 0.7978, evalLoss: 0.5983, testLoss: 1.0204\n",
      "Validation loss decreased (1.020460 --> 1.020389).  Saving model ...\n",
      "[[ 24  71   0]\n",
      " [ 12 176   0]\n",
      " [  3  69   4]]\n"
     ]
    },
    {
     "name": "stderr",
     "output_type": "stream",
     "text": [
      "Epoch 20: 100%|██████████| 1087/1087 [00:03<00:00, 285.17it/s]\n"
     ]
    },
    {
     "name": "stdout",
     "output_type": "stream",
     "text": [
      "TrainAcc: 0.6421, ValAcc: 0.7123, TestAcc: 0.5682, trainLoss: 0.7975, evalLoss: 0.5981, testLoss: 1.0204\n",
      "Validation loss decreased (1.020389 --> 1.020371).  Saving model ...\n",
      "[[ 24  71   0]\n",
      " [ 12 176   0]\n",
      " [  3  69   4]]\n"
     ]
    },
    {
     "name": "stderr",
     "output_type": "stream",
     "text": [
      "Epoch 21: 100%|██████████| 1087/1087 [00:03<00:00, 273.15it/s]\n"
     ]
    },
    {
     "name": "stdout",
     "output_type": "stream",
     "text": [
      "TrainAcc: 0.6412, ValAcc: 0.7123, TestAcc: 0.5682, trainLoss: 0.7976, evalLoss: 0.5981, testLoss: 1.0205\n",
      "EarlyStopping counter: 1 out of 15\n"
     ]
    },
    {
     "name": "stderr",
     "output_type": "stream",
     "text": [
      "Epoch 22: 100%|██████████| 1087/1087 [00:04<00:00, 257.42it/s]\n"
     ]
    },
    {
     "name": "stdout",
     "output_type": "stream",
     "text": [
      "TrainAcc: 0.6421, ValAcc: 0.7123, TestAcc: 0.5682, trainLoss: 0.7977, evalLoss: 0.5983, testLoss: 1.0206\n",
      "EarlyStopping counter: 2 out of 15\n"
     ]
    },
    {
     "name": "stderr",
     "output_type": "stream",
     "text": [
      "Epoch 23: 100%|██████████| 1087/1087 [00:03<00:00, 285.86it/s]\n"
     ]
    },
    {
     "name": "stdout",
     "output_type": "stream",
     "text": [
      "TrainAcc: 0.6412, ValAcc: 0.7123, TestAcc: 0.5682, trainLoss: 0.7975, evalLoss: 0.5982, testLoss: 1.0205\n",
      "EarlyStopping counter: 3 out of 15\n"
     ]
    },
    {
     "name": "stderr",
     "output_type": "stream",
     "text": [
      "Epoch 24: 100%|██████████| 1087/1087 [00:04<00:00, 245.67it/s]\n"
     ]
    },
    {
     "name": "stdout",
     "output_type": "stream",
     "text": [
      "TrainAcc: 0.6412, ValAcc: 0.7123, TestAcc: 0.5682, trainLoss: 0.7982, evalLoss: 0.5988, testLoss: 1.0208\n",
      "EarlyStopping counter: 4 out of 15\n"
     ]
    },
    {
     "name": "stderr",
     "output_type": "stream",
     "text": [
      "Epoch 25: 100%|██████████| 1087/1087 [00:04<00:00, 264.23it/s]\n"
     ]
    },
    {
     "name": "stdout",
     "output_type": "stream",
     "text": [
      "TrainAcc: 0.6421, ValAcc: 0.7123, TestAcc: 0.5682, trainLoss: 0.7975, evalLoss: 0.5981, testLoss: 1.0205\n",
      "EarlyStopping counter: 5 out of 15\n"
     ]
    },
    {
     "name": "stderr",
     "output_type": "stream",
     "text": [
      "Epoch 26: 100%|██████████| 1087/1087 [00:03<00:00, 284.50it/s]\n"
     ]
    },
    {
     "name": "stdout",
     "output_type": "stream",
     "text": [
      "TrainAcc: 0.6421, ValAcc: 0.7123, TestAcc: 0.5682, trainLoss: 0.7976, evalLoss: 0.5982, testLoss: 1.0206\n",
      "EarlyStopping counter: 6 out of 15\n"
     ]
    },
    {
     "name": "stderr",
     "output_type": "stream",
     "text": [
      "Epoch 27: 100%|██████████| 1087/1087 [00:04<00:00, 250.15it/s]\n"
     ]
    },
    {
     "name": "stdout",
     "output_type": "stream",
     "text": [
      "TrainAcc: 0.6421, ValAcc: 0.7123, TestAcc: 0.5682, trainLoss: 0.7977, evalLoss: 0.5984, testLoss: 1.0206\n",
      "EarlyStopping counter: 7 out of 15\n"
     ]
    },
    {
     "name": "stderr",
     "output_type": "stream",
     "text": [
      "Epoch 28: 100%|██████████| 1087/1087 [00:04<00:00, 242.11it/s]\n"
     ]
    },
    {
     "name": "stdout",
     "output_type": "stream",
     "text": [
      "TrainAcc: 0.6412, ValAcc: 0.7123, TestAcc: 0.5682, trainLoss: 0.7973, evalLoss: 0.5978, testLoss: 1.0207\n",
      "EarlyStopping counter: 8 out of 15\n"
     ]
    },
    {
     "name": "stderr",
     "output_type": "stream",
     "text": [
      "Epoch 29: 100%|██████████| 1087/1087 [00:03<00:00, 278.97it/s]\n"
     ]
    },
    {
     "name": "stdout",
     "output_type": "stream",
     "text": [
      "TrainAcc: 0.6412, ValAcc: 0.7123, TestAcc: 0.5682, trainLoss: 0.7982, evalLoss: 0.5988, testLoss: 1.0209\n",
      "EarlyStopping counter: 9 out of 15\n"
     ]
    },
    {
     "name": "stderr",
     "output_type": "stream",
     "text": [
      "Epoch 30: 100%|██████████| 1087/1087 [00:04<00:00, 267.17it/s]\n"
     ]
    },
    {
     "name": "stdout",
     "output_type": "stream",
     "text": [
      "TrainAcc: 0.6421, ValAcc: 0.7123, TestAcc: 0.5682, trainLoss: 0.7977, evalLoss: 0.5981, testLoss: 1.0207\n",
      "EarlyStopping counter: 10 out of 15\n"
     ]
    },
    {
     "name": "stderr",
     "output_type": "stream",
     "text": [
      "Epoch 31: 100%|██████████| 1087/1087 [00:03<00:00, 292.14it/s]\n"
     ]
    },
    {
     "name": "stdout",
     "output_type": "stream",
     "text": [
      "TrainAcc: 0.6421, ValAcc: 0.7123, TestAcc: 0.5682, trainLoss: 0.7979, evalLoss: 0.5985, testLoss: 1.0206\n",
      "EarlyStopping counter: 11 out of 15\n"
     ]
    },
    {
     "name": "stderr",
     "output_type": "stream",
     "text": [
      "Epoch 32: 100%|██████████| 1087/1087 [00:03<00:00, 293.98it/s]\n"
     ]
    },
    {
     "name": "stdout",
     "output_type": "stream",
     "text": [
      "TrainAcc: 0.6421, ValAcc: 0.7123, TestAcc: 0.5682, trainLoss: 0.7978, evalLoss: 0.5983, testLoss: 1.0207\n",
      "EarlyStopping counter: 12 out of 15\n"
     ]
    },
    {
     "name": "stderr",
     "output_type": "stream",
     "text": [
      "Epoch 33: 100%|██████████| 1087/1087 [00:03<00:00, 279.96it/s]\n"
     ]
    },
    {
     "name": "stdout",
     "output_type": "stream",
     "text": [
      "TrainAcc: 0.6421, ValAcc: 0.7123, TestAcc: 0.5682, trainLoss: 0.7978, evalLoss: 0.5985, testLoss: 1.0205\n",
      "EarlyStopping counter: 13 out of 15\n"
     ]
    },
    {
     "name": "stderr",
     "output_type": "stream",
     "text": [
      "Epoch 34: 100%|██████████| 1087/1087 [00:03<00:00, 292.65it/s]\n"
     ]
    },
    {
     "name": "stdout",
     "output_type": "stream",
     "text": [
      "TrainAcc: 0.6421, ValAcc: 0.7123, TestAcc: 0.5682, trainLoss: 0.7973, evalLoss: 0.5979, testLoss: 1.0206\n",
      "EarlyStopping counter: 14 out of 15\n"
     ]
    },
    {
     "name": "stderr",
     "output_type": "stream",
     "text": [
      "Epoch 35: 100%|██████████| 1087/1087 [00:03<00:00, 294.44it/s]\n"
     ]
    },
    {
     "name": "stdout",
     "output_type": "stream",
     "text": [
      "TrainAcc: 0.6412, ValAcc: 0.7123, TestAcc: 0.5682, trainLoss: 0.7973, evalLoss: 0.5978, testLoss: 1.0205\n",
      "EarlyStopping counter: 15 out of 15\n",
      "Early stopping\n"
     ]
    }
   ],
   "source": [
    "title = lossFunction\n",
    "if withGold: title += ' with gold'\n",
    "if withOil: title += ' with oil'\n",
    "if not os.path.exists(f'result/{lossFunction}/'):\n",
    "    os.makedirs(f'result/{lossFunction}/')\n",
    "if not os.path.exists(f'result/{lossFunction}/{title}'):\n",
    "    os.makedirs(f'result/{lossFunction}/{title}')\n",
    "    \n",
    "device = torch.device('cuda' if torch.cuda.is_available() else 'cpu')\n",
    "model = SAGE(gnnInputData.x.shape[1], 256, 3, n_layers=2)\n",
    "model.to(device)\n",
    "epochs = 100\n",
    "optimizer = torch.optim.Adam(model.parameters(), lr=0.0001, weight_decay=1e-3)\n",
    "scheduler = ReduceLROnPlateau(optimizer, 'min', patience=3)\n",
    "\n",
    "import matplotlib.pyplot as plt\n",
    "from early_stopping import EarlyStopping\n",
    "save_path = f'result/{lossFunction}/{title}/'\n",
    "early_stopping = EarlyStopping(save_path,patience=15,verbose=True)\n",
    "\n",
    "train_accs = []\n",
    "val_accs = []\n",
    "test_accs = []\n",
    "total_train_loss = []\n",
    "total_eval_loss = []\n",
    "total_test_loss = []\n",
    "for epoch in range(1, epochs):\n",
    "    model.train()\n",
    "    pbar = tqdm(total=len(train_idx))\n",
    "    pbar.set_description(f'Epoch {epoch:02d}')\n",
    "    batch_loss = total_correct = 0\n",
    "    for batch in train_loader:\n",
    "        batch_size = batch.batch_size\n",
    "        optimizer.zero_grad()\n",
    "        out, _ = model(batch.x.to(device), batch.edge_index.to(device))\n",
    "        out = out[:batch_size]\n",
    "        batch_y = batch.y[:batch_size].to(device)\n",
    "        batch_y = torch.reshape(batch_y, (-1,))\n",
    "        loss = creterion(lossFunction, weight, out, batch_y)\n",
    "        loss.backward()\n",
    "        optimizer.step()\n",
    "        batch_loss += float(loss)\n",
    "        total_correct += int(out.argmax(dim=-1).eq(batch_y).sum())\n",
    "        pbar.update(batch.batch_size)\n",
    "    pbar.close()\n",
    "    # loss = batch_loss / len(train_loader)\n",
    "    approx_acc = total_correct / train_idx.size(0)\n",
    "    train_acc, val_acc, test_acc, var, y_true, out = test(model, device)\n",
    "    train_loss = creterion(lossFunction, weight, out[train_idx], torch.reshape(y_true[train_idx], (-1,)))  \n",
    "    eval_loss = creterion(lossFunction, weight, out[eval_idx], torch.reshape(y_true[eval_idx], (-1,)))\n",
    "    test_loss = creterion(lossFunction, weight, out[test_idx], torch.reshape(y_true[test_idx], (-1,)))\n",
    "    train_accs.append(train_acc)\n",
    "    val_accs.append(val_acc)\n",
    "    test_accs.append(test_acc)\n",
    "    total_train_loss.append(train_loss)\n",
    "    total_eval_loss.append(eval_loss)\n",
    "    total_test_loss.append(test_loss)\n",
    "    scheduler.step(eval_loss)\n",
    "\n",
    "    from sklearn.metrics import confusion_matrix, accuracy_score, precision_score, recall_score, f1_score\n",
    "    cm = confusion_matrix(y_true[test_idx], out[test_idx].argmax(dim=-1, keepdim=True))\n",
    "\n",
    "    print(f'TrainAcc: {train_acc:.4f}, ValAcc: {val_acc:.4f}, TestAcc: {test_acc:.4f}, trainLoss: {train_loss:.4f}, evalLoss: {eval_loss:.4f}, testLoss: {test_loss:.4f}')\n",
    "    #early_stopping\n",
    "    early_stopping(test_loss, model, confusion_matrix=cm, epoch=epoch, test_acc=test_acc, test_loss=test_loss)\n",
    "    if early_stopping.early_stop:\n",
    "        print(\"Early stopping\")\n",
    "        break "
   ]
  },
  {
   "cell_type": "code",
   "execution_count": 27,
   "metadata": {},
   "outputs": [
    {
     "data": {
      "image/png": "[encoded data removed]",
      "text/plain": [
       "<Figure size 640x480 with 1 Axes>"
      ]
     },
     "metadata": {},
     "output_type": "display_data"
    }
   ],
   "source": [
    "plt.plot(np.arange(1, len(train_accs)+1), train_accs, label='Train Accuracy', marker='o')\n",
    "# plt.plot(np.arange(0, len(val_accs)), val_accs, label='Validation Accuracy', marker='o')\n",
    "plt.plot(np.arange(1, len(test_accs)+1), test_accs, label='Test Accuracy', marker='o')\n",
    "\n",
    "plt.annotate(f'epoch: {early_stopping.best_epoch}, test_accs: {test_accs[early_stopping.best_epoch-1]:.2f}', \n",
    "             xy=(early_stopping.best_epoch, test_accs[early_stopping.best_epoch-1]), \n",
    "             xytext=(early_stopping.best_epoch + 3, test_accs[early_stopping.best_epoch-1] - 0.02),  # 文本的位置\n",
    "             arrowprops=dict(facecolor='black', shrink=0.05),  # 箭頭的屬性\n",
    "             )\n",
    "\n",
    "plt.legend()\n",
    "plt.title(f'Accuracy vs. Epochs ({title})')\n",
    "plt.xlabel('Epochs')\n",
    "plt.ylabel('Accuracy')\n",
    "plt.savefig(f'result/{lossFunction}/{title}/acc.png',bbox_inches = 'tight')\n",
    "plt.show()"
   ]
  },
  {
   "cell_type": "code",
   "execution_count": 28,
   "metadata": {},
   "outputs": [
    {
     "data": {
      "image/png": "[encoded data removed]",
      "text/plain": [
       "<Figure size 640x480 with 1 Axes>"
      ]
     },
     "metadata": {},
     "output_type": "display_data"
    }
   ],
   "source": [
    "plt.plot(np.arange(1, len(total_train_loss)+1), [tensor.item() for tensor in total_train_loss], label='training loss', marker='o')\n",
    "plt.plot(np.arange(1, len(total_test_loss)+1), [tensor.item() for tensor in total_test_loss], label='test_loss', marker='o')\n",
    "\n",
    "plt.legend()\n",
    "plt.annotate(f'epoch: {early_stopping.best_epoch}, test_loss: {total_test_loss[early_stopping.best_epoch-1]:.2f}', \n",
    "             xy=(early_stopping.best_epoch, total_test_loss[early_stopping.best_epoch-1]), \n",
    "             xytext=(early_stopping.best_epoch + 3, total_test_loss[early_stopping.best_epoch-1] - 0.02),  # 文本的位置\n",
    "             arrowprops=dict(facecolor='black', shrink=0.05),  # 箭頭的屬性\n",
    "             )\n",
    "\n",
    "plt.title(f'Loss vs. Epochs ({title})')\n",
    "plt.xlabel('Epochs')\n",
    "plt.ylabel('Loss')\n",
    "plt.savefig(f'result/{lossFunction}/{title}/loss.png',bbox_inches = 'tight')\n",
    "plt.show()"
   ]
  },
  {
   "cell_type": "code",
   "execution_count": 29,
   "metadata": {},
   "outputs": [
    {
     "data": {
      "image/png": "[encoded data removed]",
      "text/plain": [
       "<Figure size 640x480 with 2 Axes>"
      ]
     },
     "metadata": {},
     "output_type": "display_data"
    }
   ],
   "source": [
    "import seaborn as sns\n",
    "import matplotlib.pyplot as plt\n",
    "labels=['rising','hold','drop']     \n",
    "\n",
    "fig, ax= plt.subplots()\n",
    "sns.heatmap(early_stopping.best_test_confusion_matrix, annot=True, fmt='g', ax=ax);  #annot=True to annotate cells, ftm='g' to disable scientific notation\n",
    "\n",
    "# labels, title and ticks\n",
    "ax.set_xlabel('Predicted labels')\n",
    "ax.set_ylabel('True labels')\n",
    "ax.set_title('CM (' + title +')')\n",
    "ax.xaxis.set_ticklabels(labels); ax.yaxis.set_ticklabels(labels)\n",
    "fig.savefig(f'result/{lossFunction}/{title}/cm.png',bbox_inches = 'tight')"
   ]
  }
 ],
 "metadata": {
  "kernelspec": {
   "display_name": "forGNN",
   "language": "python",
   "name": "python3"
  },
  "language_info": {
   "codemirror_mode": {
    "name": "ipython",
    "version": 3
   },
   "file_extension": ".py",
   "mimetype": "text/x-python",
   "name": "python",
   "nbconvert_exporter": "python",
   "pygments_lexer": "ipython3",
   "version": "3.10.12"
  },
  "orig_nbformat": 4
 },
 "nbformat": 4,
 "nbformat_minor": 2
}
