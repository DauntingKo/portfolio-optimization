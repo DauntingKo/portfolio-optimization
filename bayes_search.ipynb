{
 "cells": [
  {
   "cell_type": "code",
   "execution_count": 1,
   "metadata": {},
   "outputs": [
    {
     "name": "stderr",
     "output_type": "stream",
     "text": [
      "f:\\miniconda3\\envs\\forGNN\\lib\\site-packages\\tqdm\\auto.py:21: TqdmWarning: IProgress not found. Please update jupyter and ipywidgets. See https://ipywidgets.readthedocs.io/en/stable/user_install.html\n",
      "  from .autonotebook import tqdm as notebook_tqdm\n"
     ]
    }
   ],
   "source": [
    "from skopt import BayesSearchCV\n",
    "from sklearn.metrics import accuracy_score\n",
    "from functools import partial\n",
    "from gnn_sAndp_weekly import startGNN\n",
    "from sklearn.base import BaseEstimator, ClassifierMixin\n",
    "import numpy as np\n",
    "from sklearn.model_selection import LeaveOneOut\n",
    "import optuna"
   ]
  },
  {
   "cell_type": "code",
   "execution_count": null,
   "metadata": {},
   "outputs": [],
   "source": [
    "with_gold = False\n",
    "with_oil = False\n",
    "loss_function = 'CrossEntrophyLoss'\n",
    "with_macd_signal = True\n",
    "start_lr = 0.00018691291168759284\n",
    "num_neighbors = 18\n",
    "macdParamOptimize = False\n",
    "gamma = 2\n",
    "withAlpha = False\n",
    "aggr = 'weight'\n",
    "corr = 0.6\n",
    "acc, loss = startGNN(start_lr, with_gold, with_oil, num_neighbors, loss_function, withMacdSignal=with_macd_signal, macdParamOptimize=macdParamOptimize, gamma=gamma, withAlpha=withAlpha, aggr=aggr, corr=corr)"
   ]
  },
  {
   "cell_type": "code",
   "execution_count": 2,
   "metadata": {},
   "outputs": [],
   "source": [
    "username = \"admin\"\n",
    "password = \"admin\"\n",
    "server = \"127.0.0.1\"\n",
    "database = \"OptunaPortfolioGNN\"\n",
    "\n",
    "storage_url = f\"mssql+pyodbc://{username}:{password}@{server}/{database}?driver=ODBC+Driver+17+for+SQL+Server\""
   ]
  },
  {
   "cell_type": "code",
   "execution_count": null,
   "metadata": {},
   "outputs": [],
   "source": [
    "#study_name='param_optimize' goPredict(start_lr, False,False, num_neighbors, 'CrossEntrophyLoss', True, macdParamOptimize, 2, True)\n",
    "#study_name='GNN1' goPredict(start_lr, False,False, num_neighbors, 'CrossEntrophyLoss', False, False, 2, True)\n",
    "#study_name='GNN2' goPredict(start_lr, False,False, num_neighbors, 'FocalLoss', False, False, gamma, withAlpha)\n",
    "#study_name='GNN3' goPredict(start_lr, False, True, num_neighbors, 'CrossEntrophyLoss', False, False, 2, False)\n",
    "#study_name='GNN4' goPredict(start_lr, True, False, num_neighbors, 'CrossEntrophyLoss', False, False, 2, False)\n",
    "#study_name='GNN5' goPredict(start_lr, True, True, num_neighbors, 'CrossEntrophyLoss', False, False, 2, False)\n",
    "#study_name='GNN6' goPredict(start_lr, True, True, num_neighbors, 'CrossEntrophyLoss', True, False, 2, False)\n",
    "#study_name='GNN7' goPredict(start_lr, True, True, num_neighbors, 'CrossEntrophyLoss', True, True, 2, False)"
   ]
  },
  {
   "cell_type": "code",
   "execution_count": null,
   "metadata": {},
   "outputs": [],
   "source": [
    "def goPredict(start_lr, with_gold,with_oil, num_neighbors, loss_function, with_macd_signal, macdParamOptimize, gamma, withAlpha, aggr='mean', corr=0.7, begin_days=1096):\n",
    "    acc, loss = startGNN(start_lr, with_gold, with_oil, num_neighbors, loss_function, withMacdSignal=with_macd_signal, macdParamOptimize=macdParamOptimize, gamma=gamma, withAlpha=withAlpha, aggr=aggr, corr=corr, begin_days=begin_days)\n",
    "    return loss\n",
    "def objective(trial):\n",
    "    # start_lr = trial.suggest_float('start_lr', 1e-5, 1e-3, log=True)\n",
    "    # with_gold = trial.suggest_categorical('with_gold', [True, False])\n",
    "    # with_oil = trial.suggest_categorical('with_oil', [True, False])\n",
    "    num_neighbors = trial.suggest_int('num_neighbors', 18, 26)\n",
    "    # loss_function = trial.suggest_categorical('loss_function', ['CrossEntrophyLoss', 'FocalLoss'])\n",
    "    # with_macd_signal = trial.suggest_categorical('with_macd_signal', [True, False])\n",
    "    # macdParamOptimize = trial.suggest_categorical('macdParamOptimize', [True, False]) #with_macd_signal要為true才有作用\n",
    "    # gamma = trial.suggest_int('gamma', 1, 5) #loss_function = FocalLoss才有用\n",
    "    # withAlpha = trial.suggest_categorical('withAlpha', [True, False]) #loss_function = FocalLoss才有用\n",
    "    begin_days = trial.suggest_int('begin_days', 0, 1096)  \n",
    "    loss = goPredict(0.00018691291168759284, True, False, num_neighbors, 'CrossEntrophyLoss', True, False, 2, False, aggr='weight', corr=0.6, begin_days=begin_days)\n",
    "    return loss\n",
    "\n"
   ]
  },
  {
   "cell_type": "code",
   "execution_count": null,
   "metadata": {},
   "outputs": [],
   "source": [
    "study = optuna.create_study(direction='minimize', study_name='GNN8', storage=storage_url, load_if_exists=True)\n",
    "study.optimize(objective, n_trials=50)\n",
    "\n",
    "best_params = study.best_params\n",
    "print(\"Best hyperparameters:\", best_params)"
   ]
  },
  {
   "cell_type": "code",
   "execution_count": null,
   "metadata": {},
   "outputs": [],
   "source": [
    "#study_name='GNN1' goPredict(start_lr, False,False, num_neighbors, 'CrossEntrophyLoss', False, False, 2, True)\n",
    "#study_name='GNN2' goPredict(start_lr, False,False, num_neighbors, 'FocalLoss', False, False, gamma, withAlpha)\n",
    "#study_name='GNN3' goPredict(start_lr, False, True, num_neighbors, 'CrossEntrophyLoss', False, False, 2, False)\n",
    "#study_name='GNN4' goPredict(start_lr, True, False, num_neighbors, 'CrossEntrophyLoss', False, False, 2, False)\n",
    "#study_name='GNN5' goPredict(start_lr, True, True, num_neighbors, 'CrossEntrophyLoss', False, False, 2, False)\n",
    "#study_name='GNN6' goPredict(start_lr, False, False, num_neighbors, 'CrossEntrophyLoss', True, False, 2, False)\n",
    "#study_name='GNN7' goPredict(start_lr, False, False, num_neighbors, 'CrossEntrophyLoss', True, True, 2, False)\n",
    "\n",
    "# goPredict(0.00023308287052684873, False,False, 13, 'CrossEntrophyLoss', False, False, 2, True) #GNN1\n",
    "# goPredict(0.00028935219407641655, False,False, 13, 'FocalLoss', False, False, 5, False) #GNN2\n",
    "# goPredict(0.00043080401342612644, False, True, 15, 'CrossEntrophyLoss', False, False, 2, False) #GNN3\n",
    "# goPredict(0.00023583717378475278, True, False, 13, 'CrossEntrophyLoss', False, False, 2, False) #GNN4\n",
    "# goPredict(0.00024545748402171694, True, True, 13, 'CrossEntrophyLoss', False, False, 2, False) #GNN5\n",
    "# goPredict(0.00018691291168759284, False, False, 18, 'CrossEntrophyLoss', True, False, 2, False) #GNN6\n",
    "# goPredict(0.00018691291168759284, False, False, 24, 'CrossEntrophyLoss', True, False, 2, False, begin_days=653) #GNN6 new\n",
    "# goPredict(0.00018691291168759284, False, False, 24, 'CrossEntrophyLoss', True, True, 2, False, begin_days=653) #GNN7 new\n",
    "# goPredict(0.00018691291168759284, False, False, 24, 'CrossEntrophyLoss', True, False, 2, False, aggr='weight', corr=0.6, begin_days=653) #GNN8"
   ]
  },
  {
   "cell_type": "code",
   "execution_count": 6,
   "metadata": {},
   "outputs": [
    {
     "name": "stdout",
     "output_type": "stream",
     "text": [
      "已經完成的trial數量: 50\n"
     ]
    }
   ],
   "source": [
    "load_study = optuna.load_study(study_name='GNN6', storage=storage_url)\n",
    "completed_trials = [trial for trial in load_study.trials if trial.state == optuna.trial.TrialState.COMPLETE]\n",
    "\n",
    "print(f\"已經完成的trial數量: {len(completed_trials)}\")"
   ]
  },
  {
   "cell_type": "code",
   "execution_count": null,
   "metadata": {},
   "outputs": [],
   "source": [
    "load_study.best_value"
   ]
  },
  {
   "cell_type": "code",
   "execution_count": null,
   "metadata": {},
   "outputs": [],
   "source": [
    "load_study.best_params"
   ]
  },
  {
   "cell_type": "code",
   "execution_count": 8,
   "metadata": {},
   "outputs": [
    {
     "data": {
      "application/vnd.plotly.v1+json": {
       "config": {
        "plotlyServerURL": "https://plot.ly"
       },
       "data": [
        {
         "marker": {
          "color": [
           0,
           1,
           2,
           3,
           4,
           5,
           6,
           7,
           8,
           9,
           10,
           12,
           13,
           14,
           15,
           16,
           17,
           18,
           19,
           20,
           21,
           22,
           23,
           24,
           25,
           26,
           28,
           29,
           30,
           31,
           32,
           33,
           34,
           35,
           36,
           37,
           38,
           39,
           40,
           41,
           42,
           43,
           44,
           45,
           46,
           47,
           48,
           49,
           50,
           51
          ],
          "colorbar": {
           "title": {
            "text": "Trial"
           },
           "x": 1,
           "xpad": 40
          },
          "colorscale": [
           [
            0,
            "rgb(247,251,255)"
           ],
           [
            0.125,
            "rgb(222,235,247)"
           ],
           [
            0.25,
            "rgb(198,219,239)"
           ],
           [
            0.375,
            "rgb(158,202,225)"
           ],
           [
            0.5,
            "rgb(107,174,214)"
           ],
           [
            0.625,
            "rgb(66,146,198)"
           ],
           [
            0.75,
            "rgb(33,113,181)"
           ],
           [
            0.875,
            "rgb(8,81,156)"
           ],
           [
            1,
            "rgb(8,48,107)"
           ]
          ],
          "line": {
           "color": "Grey",
           "width": 0.5
          }
         },
         "mode": "markers",
         "name": "Feasible Trial",
         "showlegend": false,
         "type": "scatter",
         "x": [
          0.0006887114621483256,
          0.00007416461851196314,
          0.00003126379943432041,
          0.00002003697089457354,
          0.000020047758602462368,
          0.0002818138680027735,
          0.0007833699555511794,
          0.00019924149323506982,
          0.000040470708602584227,
          0.00001887713661832839,
          0.00006013755855701945,
          0.00005970072844471971,
          0.00013923410495892574,
          0.00004115328148166903,
          0.000010099487530021229,
          0.0000323216324887414,
          0.0000365294866487383,
          0.000109679736639031,
          0.0003478341517493452,
          0.000012307961674769234,
          0.00004013540836883669,
          0.000030262161035330337,
          0.00008455811937652615,
          0.00008905451489955597,
          0.000054051650312187274,
          0.00005290090154484234,
          0.000024569261937058057,
          0.000046261503896925145,
          0.00012673382738881677,
          0.0005008066119386268,
          0.00014305034494136113,
          0.00011932398517252752,
          0.0000683352948683196,
          0.00018691291168759284,
          0.0001488252156332225,
          0.00018849428583358072,
          0.00019911767977321345,
          0.00021670555799936168,
          0.000208276672064558,
          0.0004077155961889518,
          0.0002366084687719357,
          0.00017540592542421602,
          0.00015530858378302314,
          0.0001630716544434766,
          0.0002874323120384798,
          0.0002757834582888842,
          0.00017250537954510223,
          0.00016738269418387864,
          0.0006540322323846312,
          0.0001750504210534233
         ],
         "y": [
          0.924270749092102,
          0.8931463956832886,
          0.8922891616821289,
          0.8973925113677979,
          0.9043305516242981,
          0.8974691033363342,
          0.91960209608078,
          0.8975362777709961,
          0.8953582644462585,
          0.9058029651641846,
          0.8929158449172974,
          0.8924885988235474,
          0.8946022391319275,
          0.8900136351585388,
          0.9077673554420471,
          0.893780529499054,
          0.8920609354972839,
          0.895576000213623,
          0.9024815559387207,
          0.9003685116767883,
          0.8948840498924255,
          0.8926575183868408,
          0.892246425151825,
          0.8935627341270447,
          0.8919342756271362,
          0.8934980034828186,
          0.8951959013938904,
          0.9015793800354004,
          0.8918296098709106,
          0.9103026986122131,
          0.8932259678840637,
          0.8956778049468994,
          0.8905398845672607,
          0.8874318599700928,
          0.8886529207229614,
          0.8878775835037231,
          0.8893193602561951,
          0.8893683552742004,
          0.8890548348426819,
          0.9037366509437561,
          0.8977362513542175,
          0.8875531554222107,
          0.8879115581512451,
          0.8877176642417908,
          0.8978410959243774,
          0.8909451961517334,
          0.9015393853187561,
          0.8876447081565857,
          0.9323225617408752,
          0.9011541604995728
         ]
        }
       ],
       "layout": {
        "template": {
         "data": {
          "bar": [
           {
            "error_x": {
             "color": "#2a3f5f"
            },
            "error_y": {
             "color": "#2a3f5f"
            },
            "marker": {
             "line": {
              "color": "#E5ECF6",
              "width": 0.5
             },
             "pattern": {
              "fillmode": "overlay",
              "size": 10,
              "solidity": 0.2
             }
            },
            "type": "bar"
           }
          ],
          "barpolar": [
           {
            "marker": {
             "line": {
              "color": "#E5ECF6",
              "width": 0.5
             },
             "pattern": {
              "fillmode": "overlay",
              "size": 10,
              "solidity": 0.2
             }
            },
            "type": "barpolar"
           }
          ],
          "carpet": [
           {
            "aaxis": {
             "endlinecolor": "#2a3f5f",
             "gridcolor": "white",
             "linecolor": "white",
             "minorgridcolor": "white",
             "startlinecolor": "#2a3f5f"
            },
            "baxis": {
             "endlinecolor": "#2a3f5f",
             "gridcolor": "white",
             "linecolor": "white",
             "minorgridcolor": "white",
             "startlinecolor": "#2a3f5f"
            },
            "type": "carpet"
           }
          ],
          "choropleth": [
           {
            "colorbar": {
             "outlinewidth": 0,
             "ticks": ""
            },
            "type": "choropleth"
           }
          ],
          "contour": [
           {
            "colorbar": {
             "outlinewidth": 0,
             "ticks": ""
            },
            "colorscale": [
             [
              0,
              "#0d0887"
             ],
             [
              0.1111111111111111,
              "#46039f"
             ],
             [
              0.2222222222222222,
              "#7201a8"
             ],
             [
              0.3333333333333333,
              "#9c179e"
             ],
             [
              0.4444444444444444,
              "#bd3786"
             ],
             [
              0.5555555555555556,
              "#d8576b"
             ],
             [
              0.6666666666666666,
              "#ed7953"
             ],
             [
              0.7777777777777778,
              "#fb9f3a"
             ],
             [
              0.8888888888888888,
              "#fdca26"
             ],
             [
              1,
              "#f0f921"
             ]
            ],
            "type": "contour"
           }
          ],
          "contourcarpet": [
           {
            "colorbar": {
             "outlinewidth": 0,
             "ticks": ""
            },
            "type": "contourcarpet"
           }
          ],
          "heatmap": [
           {
            "colorbar": {
             "outlinewidth": 0,
             "ticks": ""
            },
            "colorscale": [
             [
              0,
              "#0d0887"
             ],
             [
              0.1111111111111111,
              "#46039f"
             ],
             [
              0.2222222222222222,
              "#7201a8"
             ],
             [
              0.3333333333333333,
              "#9c179e"
             ],
             [
              0.4444444444444444,
              "#bd3786"
             ],
             [
              0.5555555555555556,
              "#d8576b"
             ],
             [
              0.6666666666666666,
              "#ed7953"
             ],
             [
              0.7777777777777778,
              "#fb9f3a"
             ],
             [
              0.8888888888888888,
              "#fdca26"
             ],
             [
              1,
              "#f0f921"
             ]
            ],
            "type": "heatmap"
           }
          ],
          "heatmapgl": [
           {
            "colorbar": {
             "outlinewidth": 0,
             "ticks": ""
            },
            "colorscale": [
             [
              0,
              "#0d0887"
             ],
             [
              0.1111111111111111,
              "#46039f"
             ],
             [
              0.2222222222222222,
              "#7201a8"
             ],
             [
              0.3333333333333333,
              "#9c179e"
             ],
             [
              0.4444444444444444,
              "#bd3786"
             ],
             [
              0.5555555555555556,
              "#d8576b"
             ],
             [
              0.6666666666666666,
              "#ed7953"
             ],
             [
              0.7777777777777778,
              "#fb9f3a"
             ],
             [
              0.8888888888888888,
              "#fdca26"
             ],
             [
              1,
              "#f0f921"
             ]
            ],
            "type": "heatmapgl"
           }
          ],
          "histogram": [
           {
            "marker": {
             "pattern": {
              "fillmode": "overlay",
              "size": 10,
              "solidity": 0.2
             }
            },
            "type": "histogram"
           }
          ],
          "histogram2d": [
           {
            "colorbar": {
             "outlinewidth": 0,
             "ticks": ""
            },
            "colorscale": [
             [
              0,
              "#0d0887"
             ],
             [
              0.1111111111111111,
              "#46039f"
             ],
             [
              0.2222222222222222,
              "#7201a8"
             ],
             [
              0.3333333333333333,
              "#9c179e"
             ],
             [
              0.4444444444444444,
              "#bd3786"
             ],
             [
              0.5555555555555556,
              "#d8576b"
             ],
             [
              0.6666666666666666,
              "#ed7953"
             ],
             [
              0.7777777777777778,
              "#fb9f3a"
             ],
             [
              0.8888888888888888,
              "#fdca26"
             ],
             [
              1,
              "#f0f921"
             ]
            ],
            "type": "histogram2d"
           }
          ],
          "histogram2dcontour": [
           {
            "colorbar": {
             "outlinewidth": 0,
             "ticks": ""
            },
            "colorscale": [
             [
              0,
              "#0d0887"
             ],
             [
              0.1111111111111111,
              "#46039f"
             ],
             [
              0.2222222222222222,
              "#7201a8"
             ],
             [
              0.3333333333333333,
              "#9c179e"
             ],
             [
              0.4444444444444444,
              "#bd3786"
             ],
             [
              0.5555555555555556,
              "#d8576b"
             ],
             [
              0.6666666666666666,
              "#ed7953"
             ],
             [
              0.7777777777777778,
              "#fb9f3a"
             ],
             [
              0.8888888888888888,
              "#fdca26"
             ],
             [
              1,
              "#f0f921"
             ]
            ],
            "type": "histogram2dcontour"
           }
          ],
          "mesh3d": [
           {
            "colorbar": {
             "outlinewidth": 0,
             "ticks": ""
            },
            "type": "mesh3d"
           }
          ],
          "parcoords": [
           {
            "line": {
             "colorbar": {
              "outlinewidth": 0,
              "ticks": ""
             }
            },
            "type": "parcoords"
           }
          ],
          "pie": [
           {
            "automargin": true,
            "type": "pie"
           }
          ],
          "scatter": [
           {
            "fillpattern": {
             "fillmode": "overlay",
             "size": 10,
             "solidity": 0.2
            },
            "type": "scatter"
           }
          ],
          "scatter3d": [
           {
            "line": {
             "colorbar": {
              "outlinewidth": 0,
              "ticks": ""
             }
            },
            "marker": {
             "colorbar": {
              "outlinewidth": 0,
              "ticks": ""
             }
            },
            "type": "scatter3d"
           }
          ],
          "scattercarpet": [
           {
            "marker": {
             "colorbar": {
              "outlinewidth": 0,
              "ticks": ""
             }
            },
            "type": "scattercarpet"
           }
          ],
          "scattergeo": [
           {
            "marker": {
             "colorbar": {
              "outlinewidth": 0,
              "ticks": ""
             }
            },
            "type": "scattergeo"
           }
          ],
          "scattergl": [
           {
            "marker": {
             "colorbar": {
              "outlinewidth": 0,
              "ticks": ""
             }
            },
            "type": "scattergl"
           }
          ],
          "scattermapbox": [
           {
            "marker": {
             "colorbar": {
              "outlinewidth": 0,
              "ticks": ""
             }
            },
            "type": "scattermapbox"
           }
          ],
          "scatterpolar": [
           {
            "marker": {
             "colorbar": {
              "outlinewidth": 0,
              "ticks": ""
             }
            },
            "type": "scatterpolar"
           }
          ],
          "scatterpolargl": [
           {
            "marker": {
             "colorbar": {
              "outlinewidth": 0,
              "ticks": ""
             }
            },
            "type": "scatterpolargl"
           }
          ],
          "scatterternary": [
           {
            "marker": {
             "colorbar": {
              "outlinewidth": 0,
              "ticks": ""
             }
            },
            "type": "scatterternary"
           }
          ],
          "surface": [
           {
            "colorbar": {
             "outlinewidth": 0,
             "ticks": ""
            },
            "colorscale": [
             [
              0,
              "#0d0887"
             ],
             [
              0.1111111111111111,
              "#46039f"
             ],
             [
              0.2222222222222222,
              "#7201a8"
             ],
             [
              0.3333333333333333,
              "#9c179e"
             ],
             [
              0.4444444444444444,
              "#bd3786"
             ],
             [
              0.5555555555555556,
              "#d8576b"
             ],
             [
              0.6666666666666666,
              "#ed7953"
             ],
             [
              0.7777777777777778,
              "#fb9f3a"
             ],
             [
              0.8888888888888888,
              "#fdca26"
             ],
             [
              1,
              "#f0f921"
             ]
            ],
            "type": "surface"
           }
          ],
          "table": [
           {
            "cells": {
             "fill": {
              "color": "#EBF0F8"
             },
             "line": {
              "color": "white"
             }
            },
            "header": {
             "fill": {
              "color": "#C8D4E3"
             },
             "line": {
              "color": "white"
             }
            },
            "type": "table"
           }
          ]
         },
         "layout": {
          "annotationdefaults": {
           "arrowcolor": "#2a3f5f",
           "arrowhead": 0,
           "arrowwidth": 1
          },
          "autotypenumbers": "strict",
          "coloraxis": {
           "colorbar": {
            "outlinewidth": 0,
            "ticks": ""
           }
          },
          "colorscale": {
           "diverging": [
            [
             0,
             "#8e0152"
            ],
            [
             0.1,
             "#c51b7d"
            ],
            [
             0.2,
             "#de77ae"
            ],
            [
             0.3,
             "#f1b6da"
            ],
            [
             0.4,
             "#fde0ef"
            ],
            [
             0.5,
             "#f7f7f7"
            ],
            [
             0.6,
             "#e6f5d0"
            ],
            [
             0.7,
             "#b8e186"
            ],
            [
             0.8,
             "#7fbc41"
            ],
            [
             0.9,
             "#4d9221"
            ],
            [
             1,
             "#276419"
            ]
           ],
           "sequential": [
            [
             0,
             "#0d0887"
            ],
            [
             0.1111111111111111,
             "#46039f"
            ],
            [
             0.2222222222222222,
             "#7201a8"
            ],
            [
             0.3333333333333333,
             "#9c179e"
            ],
            [
             0.4444444444444444,
             "#bd3786"
            ],
            [
             0.5555555555555556,
             "#d8576b"
            ],
            [
             0.6666666666666666,
             "#ed7953"
            ],
            [
             0.7777777777777778,
             "#fb9f3a"
            ],
            [
             0.8888888888888888,
             "#fdca26"
            ],
            [
             1,
             "#f0f921"
            ]
           ],
           "sequentialminus": [
            [
             0,
             "#0d0887"
            ],
            [
             0.1111111111111111,
             "#46039f"
            ],
            [
             0.2222222222222222,
             "#7201a8"
            ],
            [
             0.3333333333333333,
             "#9c179e"
            ],
            [
             0.4444444444444444,
             "#bd3786"
            ],
            [
             0.5555555555555556,
             "#d8576b"
            ],
            [
             0.6666666666666666,
             "#ed7953"
            ],
            [
             0.7777777777777778,
             "#fb9f3a"
            ],
            [
             0.8888888888888888,
             "#fdca26"
            ],
            [
             1,
             "#f0f921"
            ]
           ]
          },
          "colorway": [
           "#636efa",
           "#EF553B",
           "#00cc96",
           "#ab63fa",
           "#FFA15A",
           "#19d3f3",
           "#FF6692",
           "#B6E880",
           "#FF97FF",
           "#FECB52"
          ],
          "font": {
           "color": "#2a3f5f"
          },
          "geo": {
           "bgcolor": "white",
           "lakecolor": "white",
           "landcolor": "#E5ECF6",
           "showlakes": true,
           "showland": true,
           "subunitcolor": "white"
          },
          "hoverlabel": {
           "align": "left"
          },
          "hovermode": "closest",
          "mapbox": {
           "style": "light"
          },
          "paper_bgcolor": "white",
          "plot_bgcolor": "#E5ECF6",
          "polar": {
           "angularaxis": {
            "gridcolor": "white",
            "linecolor": "white",
            "ticks": ""
           },
           "bgcolor": "#E5ECF6",
           "radialaxis": {
            "gridcolor": "white",
            "linecolor": "white",
            "ticks": ""
           }
          },
          "scene": {
           "xaxis": {
            "backgroundcolor": "#E5ECF6",
            "gridcolor": "white",
            "gridwidth": 2,
            "linecolor": "white",
            "showbackground": true,
            "ticks": "",
            "zerolinecolor": "white"
           },
           "yaxis": {
            "backgroundcolor": "#E5ECF6",
            "gridcolor": "white",
            "gridwidth": 2,
            "linecolor": "white",
            "showbackground": true,
            "ticks": "",
            "zerolinecolor": "white"
           },
           "zaxis": {
            "backgroundcolor": "#E5ECF6",
            "gridcolor": "white",
            "gridwidth": 2,
            "linecolor": "white",
            "showbackground": true,
            "ticks": "",
            "zerolinecolor": "white"
           }
          },
          "shapedefaults": {
           "line": {
            "color": "#2a3f5f"
           }
          },
          "ternary": {
           "aaxis": {
            "gridcolor": "white",
            "linecolor": "white",
            "ticks": ""
           },
           "baxis": {
            "gridcolor": "white",
            "linecolor": "white",
            "ticks": ""
           },
           "bgcolor": "#E5ECF6",
           "caxis": {
            "gridcolor": "white",
            "linecolor": "white",
            "ticks": ""
           }
          },
          "title": {
           "x": 0.05
          },
          "xaxis": {
           "automargin": true,
           "gridcolor": "white",
           "linecolor": "white",
           "ticks": "",
           "title": {
            "standoff": 15
           },
           "zerolinecolor": "white",
           "zerolinewidth": 2
          },
          "yaxis": {
           "automargin": true,
           "gridcolor": "white",
           "linecolor": "white",
           "ticks": "",
           "title": {
            "standoff": 15
           },
           "zerolinecolor": "white",
           "zerolinewidth": 2
          }
         }
        },
        "title": {
         "text": "Slice Plot"
        },
        "xaxis": {
         "title": {
          "text": "start_lr"
         },
         "type": "log"
        },
        "yaxis": {
         "title": {
          "text": "Loss"
         }
        }
       }
      }
     },
     "metadata": {},
     "output_type": "display_data"
    }
   ],
   "source": [
    "optuna.visualization.plot_slice(load_study,params=[\"start_lr\"], target_name='Loss')"
   ]
  }
 ],
 "metadata": {
  "kernelspec": {
   "display_name": "forGNN",
   "language": "python",
   "name": "python3"
  },
  "language_info": {
   "codemirror_mode": {
    "name": "ipython",
    "version": 3
   },
   "file_extension": ".py",
   "mimetype": "text/x-python",
   "name": "python",
   "nbconvert_exporter": "python",
   "pygments_lexer": "ipython3",
   "version": "3.10.12"
  }
 },
 "nbformat": 4,
 "nbformat_minor": 2
}
