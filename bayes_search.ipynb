{
 "cells": [
  {
   "cell_type": "code",
   "execution_count": null,
   "metadata": {},
   "outputs": [],
   "source": [
    "from skopt import BayesSearchCV\n",
    "from sklearn.metrics import accuracy_score\n",
    "from functools import partial\n",
    "from gnn_sAndp_weekly import startGNN\n",
    "from sklearn.base import BaseEstimator, ClassifierMixin\n",
    "import numpy as np\n",
    "from sklearn.model_selection import LeaveOneOut\n",
    "import optuna"
   ]
  },
  {
   "cell_type": "code",
   "execution_count": null,
   "metadata": {},
   "outputs": [],
   "source": [
    "username = \"admin\"\n",
    "password = \"admin\"\n",
    "server = \"127.0.0.1\"\n",
    "database = \"OptunaPortfolioGNN\"\n",
    "\n",
    "storage_url = f\"mssql+pyodbc://{username}:{password}@{server}/{database}?driver=ODBC+Driver+17+for+SQL+Server\""
   ]
  },
  {
   "cell_type": "code",
   "execution_count": null,
   "metadata": {},
   "outputs": [],
   "source": [
    "#study_name='param_optimize' goPredict(start_lr, False,False, num_neighbors, 'CrossEntrophyLoss', True, macdParamOptimize, 2, True)\n",
    "#study_name='GNN1' goPredict(start_lr, False,False, num_neighbors, 'CrossEntrophyLoss', False, False, 2, True)\n",
    "#study_name='GNN2' goPredict(start_lr, False,False, num_neighbors, 'FocalLoss', False, False, gamma, withAlpha)\n",
    "#study_name='GNN3' goPredict(start_lr, False, True, num_neighbors, 'CrossEntrophyLoss', False, False, 2, False)\n",
    "#study_name='GNN4' goPredict(start_lr, True, False, num_neighbors, 'CrossEntrophyLoss', False, False, 2, False)\n",
    "#study_name='GNN5' goPredict(start_lr, True, True, num_neighbors, 'CrossEntrophyLoss', False, False, 2, False)\n",
    "#study_name='GNN6' goPredict(start_lr, True, True, num_neighbors, 'CrossEntrophyLoss', True, False, 2, False)\n",
    "#study_name='GNN7' goPredict(start_lr, True, True, num_neighbors, 'CrossEntrophyLoss', True, True, 2, False)"
   ]
  },
  {
   "cell_type": "code",
   "execution_count": null,
   "metadata": {},
   "outputs": [],
   "source": [
    "def goPredict(start_lr, with_gold,with_oil, num_neighbors, loss_function, with_macd_signal, macdParamOptimize, gamma, withAlpha, aggr='mean', corr=0.7, begin_days=1096, edge_weight_based_on='corr' , edge_weight_lambda_decay=0.5, window_size=7):\n",
    "    print(f'window_size={window_size}')\n",
    "    acc, loss = startGNN(start_lr, with_gold, with_oil, num_neighbors, loss_function, withMacdSignal=with_macd_signal, macdParamOptimize=macdParamOptimize, gamma=gamma, withAlpha=withAlpha, aggr=aggr, corr=corr, begin_days=begin_days, edge_weight_based_on=edge_weight_based_on,edge_weight_lambda_decay=edge_weight_lambda_decay,window_size=window_size)\n",
    "    return loss\n",
    "def objective(trial):\n",
    "    # start_lr = trial.suggest_float('start_lr', 1e-5, 1e-3, log=True)\n",
    "    # with_gold = trial.suggest_categorical('with_gold', [True, False])\n",
    "    # with_oil = trial.suggest_categorical('with_oil', [True, False])\n",
    "    # num_neighbors = trial.suggest_int('num_neighbors', 18, 26)\n",
    "    # loss_function = trial.suggest_categorical('loss_function', ['CrossEntrophyLoss', 'FocalLoss'])\n",
    "    # with_macd_signal = trial.suggest_categorical('with_macd_signal', [True, False])\n",
    "    # macdParamOptimize = trial.suggest_categorical('macdParamOptimize', [True, False]) #with_macd_signal要為true才有作用\n",
    "    # gamma = trial.suggest_int('gamma', 1, 5) #loss_function = FocalLoss才有用\n",
    "    # withAlpha = trial.suggest_categorical('withAlpha', [True, False]) #loss_function = FocalLoss才有用\n",
    "    # begin_days = trial.suggest_int('begin_days', 0, 1096)  \n",
    "    # edge_weight_lambda_decay = trial.suggest_float('edge_weight_lambda_decay', 0.0001, 0.01, log=True)\n",
    "    window_size = trial.suggest_int('window_size', 5, 20)\n",
    "    trials = trial.study.trials\n",
    "    for t in trials:\n",
    "        if t.params.get('window_size') == window_size:\n",
    "            print('optuna.exceptions.TrialPruned')\n",
    "            raise optuna.exceptions.TrialPruned()\n",
    "    loss = goPredict(0.00018691291168759284, False, False, 24, 'CrossEntrophyLoss', True, False, 2, False, aggr='weight', corr=0.6, begin_days=653, edge_weight_based_on='corr' , edge_weight_lambda_decay=0.0001, window_size=window_size) #GNN11\n",
    "    return loss\n",
    "\n"
   ]
  },
  {
   "cell_type": "code",
   "execution_count": null,
   "metadata": {},
   "outputs": [],
   "source": [
    "study = optuna.create_study(direction='minimize', study_name='GNN11', storage=storage_url, load_if_exists=True)\n",
    "study.optimize(objective, n_trials=11)\n",
    "\n",
    "best_params = study.best_params\n",
    "print(\"Best hyperparameters:\", best_params)"
   ]
  },
  {
   "cell_type": "code",
   "execution_count": null,
   "metadata": {},
   "outputs": [],
   "source": [
    "#study_name='GNN1' goPredict(start_lr, False,False, num_neighbors, 'CrossEntrophyLoss', False, False, 2, True)\n",
    "#study_name='GNN2' goPredict(start_lr, False,False, num_neighbors, 'FocalLoss', False, False, gamma, withAlpha)\n",
    "#study_name='GNN3' goPredict(start_lr, False, True, num_neighbors, 'CrossEntrophyLoss', False, False, 2, False)\n",
    "#study_name='GNN4' goPredict(start_lr, True, False, num_neighbors, 'CrossEntrophyLoss', False, False, 2, False)\n",
    "#study_name='GNN5' goPredict(start_lr, True, True, num_neighbors, 'CrossEntrophyLoss', False, False, 2, False)\n",
    "#study_name='GNN6' goPredict(start_lr, False, False, num_neighbors, 'CrossEntrophyLoss', True, False, 2, False)\n",
    "#study_name='GNN7' goPredict(start_lr, False, False, num_neighbors, 'CrossEntrophyLoss', True, True, 2, False)\n",
    "\n",
    "# goPredict(0.00023308287052684873, False,False, 13, 'CrossEntrophyLoss', False, False, 2, True) #GNN1\n",
    "# goPredict(0.00028935219407641655, False,False, 13, 'FocalLoss', False, False, 5, False) #GNN2\n",
    "# goPredict(0.00043080401342612644, False, True, 15, 'CrossEntrophyLoss', False, False, 2, False) #GNN3\n",
    "# goPredict(0.00023583717378475278, True, False, 13, 'CrossEntrophyLoss', False, False, 2, False) #GNN4\n",
    "# goPredict(0.00024545748402171694, True, True, 13, 'CrossEntrophyLoss', False, False, 2, False) #GNN5\n",
    "# goPredict(0.00018691291168759284, False, False, 18, 'CrossEntrophyLoss', True, False, 2, False) #GNN6\n",
    "# goPredict(0.00018691291168759284, False, False, 24, 'CrossEntrophyLoss', True, False, 2, False, begin_days=653) #GNN6 new\n",
    "# goPredict(0.00018691291168759284, False, False, 24, 'CrossEntrophyLoss', True, True, 2, False, begin_days=653) #GNN7 new\n",
    "# goPredict(0.00018691291168759284, False, False, 24, 'CrossEntrophyLoss', True, False, 2, False, aggr='weight', corr=0.6, begin_days=653) #GNN8\n",
    "# goPredict(0.00018691291168759284, False, False, 24, 'CrossEntrophyLoss', True, False, 2, False, aggr='weight', corr=0.6, begin_days=653, edge_weight_based_on='exp_decay' , edge_weight_lambda_decay=0.5) #GNN9"
   ]
  },
  {
   "cell_type": "code",
   "execution_count": null,
   "metadata": {},
   "outputs": [],
   "source": [
    "load_study = optuna.load_study(study_name='GNN11', storage=storage_url)\n",
    "completed_trials = [trial for trial in load_study.trials if trial.state == optuna.trial.TrialState.COMPLETE]\n",
    "\n",
    "print(f\"已經完成的trial數量: {len(completed_trials)}\")"
   ]
  },
  {
   "cell_type": "code",
   "execution_count": null,
   "metadata": {},
   "outputs": [],
   "source": [
    "load_study.best_value"
   ]
  },
  {
   "cell_type": "code",
   "execution_count": null,
   "metadata": {},
   "outputs": [],
   "source": [
    "load_study.best_params"
   ]
  },
  {
   "cell_type": "code",
   "execution_count": null,
   "metadata": {},
   "outputs": [],
   "source": [
    "optuna.visualization.plot_slice(load_study,params=[\"window_size\"], target_name='Loss')"
   ]
  }
 ],
 "metadata": {
  "kernelspec": {
   "display_name": "forGNN",
   "language": "python",
   "name": "python3"
  },
  "language_info": {
   "codemirror_mode": {
    "name": "ipython",
    "version": 3
   },
   "file_extension": ".py",
   "mimetype": "text/x-python",
   "name": "python",
   "nbconvert_exporter": "python",
   "pygments_lexer": "ipython3",
   "version": "3.10.12"
  }
 },
 "nbformat": 4,
 "nbformat_minor": 2
}
